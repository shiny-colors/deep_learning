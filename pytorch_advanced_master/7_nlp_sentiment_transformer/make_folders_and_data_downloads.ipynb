{
 "cells": [
  {
   "cell_type": "code",
   "execution_count": 1,
   "metadata": {},
   "outputs": [],
   "source": [
    "import os\n",
    "import urllib.request\n",
    "import zipfile\n",
    "import tarfile"
   ]
  },
  {
   "cell_type": "code",
   "execution_count": 2,
   "metadata": {},
   "outputs": [],
   "source": [
    "# フォルダ「data」が存在しない場合は作成する\n",
    "save_path = \"D:/Statistics/data/deep_leraning/nlp/\"\n",
    "if os.path.exists(save_path)==False:\n",
    "    os.mkdir(save_path)"
   ]
  },
  {
   "cell_type": "markdown",
   "metadata": {},
   "source": [
    "## word2vec学習済みモデルをダウンロード"
   ]
  },
  {
   "cell_type": "code",
   "execution_count": null,
   "metadata": {},
   "outputs": [],
   "source": [
    "# 学習済み日本語word2vecモデルをダウンロード\n",
    "url = \"http://www.cl.ecei.tohoku.ac.jp/~m-suzuki/jawiki_vector/data/20170201.tar.bz2\"\n",
    "download_path = save_path + \"20170201.tar.bz2\"\n",
    "if os.path.exists(download_path)==False:\n",
    "    urllib.request.urlretrieve(url, download_path)"
   ]
  },
  {
   "cell_type": "code",
   "execution_count": null,
   "metadata": {},
   "outputs": [],
   "source": [
    "# tarファイルを読み込み\n",
    "tar = tarfile.open(save_path + \"20170201.tar.bz2\", \"r|bz2\")\n",
    "tar.extractall(save_path)  # 解凍\n",
    "tar.close()  # ファイルをクローズ"
   ]
  },
  {
   "cell_type": "markdown",
   "metadata": {},
   "source": [
    "## FastTextの英語学習済みモデルをダウンロード"
   ]
  },
  {
   "cell_type": "code",
   "execution_count": null,
   "metadata": {},
   "outputs": [],
   "source": [
    "# FastTextの英語学習済みモデルをダウンロード\n",
    "url = \"https://dl.fbaipublicfiles.com/fasttext/vectors-english/wiki-news-300d-1M.vec.zip\"\n",
    "download_path = save_path + \"wiki-news-300d-1M.vec.zip\"\n",
    "if os.path.exists(download_path)==False:\n",
    "    urllib.request.urlretrieve(url, download_path)"
   ]
  },
  {
   "cell_type": "code",
   "execution_count": null,
   "metadata": {},
   "outputs": [],
   "source": [
    "# データを解凍\n",
    "zip = zipfile.ZipFile(save_path + \"wiki-news-300d-1M.vec.zip\")\n",
    "zip.extractall(save_path)  # ZIPを解凍\n",
    "zip.close()  # ZIPファイルをクローズ"
   ]
  },
  {
   "cell_type": "markdown",
   "metadata": {},
   "source": [
    "## IMDbデータセットをダウンロード"
   ]
  },
  {
   "cell_type": "code",
   "execution_count": 4,
   "metadata": {},
   "outputs": [],
   "source": [
    "# データをダウンロード\n",
    "url = \"http://ai.stanford.edu/~amaas/data/sentiment/aclImdb_v1.tar.gz\"\n",
    "download_path = save_path + \"aclImdb_v1.tar.gz\"\n",
    "if os.path.exists(download_path)==False:\n",
    "    urllib.request.urlretrieve(url, download_path)"
   ]
  },
  {
   "cell_type": "code",
   "execution_count": 5,
   "metadata": {},
   "outputs": [],
   "source": [
    "# tarファイルを読み込み\n",
    "tar = tarfile.open(save_path + 'aclImdb_v1.tar.gz')\n",
    "tar.extractall(save_path)  # 解凍\n",
    "tar.close()  # ファイルをクローズ\n"
   ]
  },
  {
   "cell_type": "code",
   "execution_count": null,
   "metadata": {},
   "outputs": [],
   "source": []
  }
 ],
 "metadata": {
  "kernelspec": {
   "display_name": "Python 3",
   "language": "python",
   "name": "python3"
  },
  "language_info": {
   "codemirror_mode": {
    "name": "ipython",
    "version": 3
   },
   "file_extension": ".py",
   "mimetype": "text/x-python",
   "name": "python",
   "nbconvert_exporter": "python",
   "pygments_lexer": "ipython3",
   "version": "3.7.3"
  }
 },
 "nbformat": 4,
 "nbformat_minor": 2
}
