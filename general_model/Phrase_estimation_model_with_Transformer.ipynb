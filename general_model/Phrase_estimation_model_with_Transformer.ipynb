{
 "cells": [
  {
   "cell_type": "code",
   "execution_count": null,
   "metadata": {},
   "outputs": [],
   "source": [
    "# ライブラリの読み込み\n",
    "import numpy as np\n",
    "import pandas as pd\n",
    "import scipy\n",
    "import matplotlib.pyplot  as plt\n",
    "import torch\n",
    "import torch.nn as nn\n",
    "import torch.optim as optimizers\n",
    "import torch.nn.functional as F \n",
    "import torchtext\n",
    "import random\n",
    "\n",
    "np.random.seed(9837)\n",
    "torch.manual_seed(9837)\n",
    "pd.set_option(\"display.max_rows\", 250)\n",
    "pd.set_option(\"display.max_columns\", 100)"
   ]
  },
  {
   "cell_type": "code",
   "execution_count": null,
   "metadata": {},
   "outputs": [],
   "source": [
    "# 多項分布の乱数を生成する関数\n",
    "def rmnom(pr, n, k, pattern):\n",
    "    if pattern==1:\n",
    "        z_id = np.array(np.argmax(np.cumsum(pr, axis=1) >= np.random.uniform(0, 1, n)[:, np.newaxis], axis=1), dtype=\"int\")\n",
    "        Z = np.diag(np.repeat(1, k))[z_id, ]\n",
    "        return z_id, Z\n",
    "    z_id = np.array(np.argmax((np.cumsum(pr, axis=1) >= np.random.uniform(0, 1, n)[:, np.newaxis]), axis=1), dtype=\"int\")\n",
    "    return z_id"
   ]
  },
  {
   "cell_type": "markdown",
   "metadata": {},
   "source": [
    "# データの生成"
   ]
  },
  {
   "cell_type": "markdown",
   "metadata": {},
   "source": [
    "## 学習用の入力データの定義"
   ]
  },
  {
   "cell_type": "code",
   "execution_count": null,
   "metadata": {},
   "outputs": [],
   "source": [
    "# データの生成\n",
    "# パラメータ数を定義\n",
    "syntax = 8\n",
    "max_seq = 100\n",
    "mask_id = 0\n",
    "k1 = 25\n",
    "k2 = 15\n",
    "k = k1 + k2\n",
    "d = 5000\n",
    "v1 = 800\n",
    "v2 = 200\n",
    "v = v1 + v2\n",
    "\n",
    "# 文書に対するidを定義\n",
    "min_word = 2\n",
    "min_phrase = 3\n",
    "min_pt = 5\n",
    "pt = np.random.poisson(np.random.gamma(10.0, 1.0, d), d)\n",
    "pt[pt < min_pt] = min_pt\n",
    "L = np.sum(pt)\n",
    "d_id = np.repeat(np.arange(d), pt) \n",
    "sentence_id = np.arange(L)\n",
    "phrase_id = np.zeros((L, max_seq), dtype=\"int\")\n",
    "phrase_no = np.zeros((L, max_seq), dtype=\"int\")\n",
    "word_no = np.zeros((L, max_seq), dtype=\"int\")\n",
    "n = np.repeat(0, L)\n",
    "\n",
    "# 文章ごとにフレーズのidを作成\n",
    "for i in range(L):\n",
    "    ph = np.random.poisson(np.random.gamma(17.5, 0.5, 1), 1)\n",
    "    ph[ph < min_phrase] = min_phrase\n",
    "    w = np.random.poisson(np.random.gamma(75.0, 0.05, ph), ph)\n",
    "    w[w < min_word] = min_word\n",
    "    if i==0:\n",
    "        phrase = np.repeat(np.arange(ph), w)[:max_seq] + 1\n",
    "    else:\n",
    "        phrase = np.repeat(np.arange(ph), w)[:max_seq] + max_phrase + 1\n",
    "    max_phrase = np.max(phrase)\n",
    "    n[i] = phrase.shape[0]\n",
    "    phrase_id[i, :n[i]] = phrase\n",
    "    phrase_no[i, :n[i]] = phrase - np.min(phrase) + 1\n",
    "    word_no[i, :n[i]] = np.arange(n[i]) + 1\n",
    "    \n",
    "# 文書の統計量\n",
    "max_phrase_no = np.max(phrase_no) \n",
    "max_word_no = np.max(word_no) \n",
    "pt = np.array([np.sum(n[d_id==i]) for i in range(d)])\n",
    "M = np.max(phrase_id) - 1\n",
    "N = np.sum(n)"
   ]
  },
  {
   "cell_type": "code",
   "execution_count": null,
   "metadata": {
    "scrolled": true
   },
   "outputs": [],
   "source": [
    "# 単語を生成\n",
    "# パラメータを定義\n",
    "topic = 50\n",
    "topic_arange = np.arange(topic)\n",
    "theta = np.random.dirichlet(np.repeat(0.5, topic), d)\n",
    "phi = np.random.dirichlet(np.repeat(0.025, v), topic)\n",
    "\n",
    "# 文章ごとに単語を生成\n",
    "word_id = np.zeros((L, max_seq), dtype=\"int\")\n",
    "for i in range(L):\n",
    "    if i%10000==0:\n",
    "        print(i)\n",
    "    z = np.dot(np.random.multinomial(1, theta[d_id[i], ], n[i]), topic_arange)\n",
    "    word_id[i, :n[i]] = rmnom(phi[z, ], n[i], topic, 0) + 1"
   ]
  },
  {
   "cell_type": "markdown",
   "metadata": {},
   "source": [
    "## 検証用の入力データを定義"
   ]
  },
  {
   "cell_type": "code",
   "execution_count": null,
   "metadata": {},
   "outputs": [],
   "source": [
    "# データの生成\n",
    "# 文書に対するidを定義\n",
    "d0 = 2500\n",
    "pt0 = np.random.poisson(np.random.gamma(10.0, 1.0, d0), d0)\n",
    "pt0[pt0 < min_pt] = min_pt\n",
    "L0 = np.sum(pt0)\n",
    "d_id0 = np.repeat(np.arange(d0), pt0) \n",
    "sentence_id0 = np.arange(L0)\n",
    "phrase_id0 = np.zeros((L0, max_seq), dtype=\"int\")\n",
    "phrase_no0 = np.zeros((L0, max_seq), dtype=\"int\")\n",
    "word_no0 = np.zeros((L0, max_seq), dtype=\"int\")\n",
    "n0 = np.repeat(0, L0)\n",
    "\n",
    "# 文章ごとにフレーズのidを作成\n",
    "for i in range(L0):\n",
    "    ph = np.random.poisson(np.random.gamma(17.5, 0.5, 1), 1)\n",
    "    ph[ph < min_phrase] = min_phrase\n",
    "    w = np.random.poisson(np.random.gamma(75.0, 0.05, ph), ph)\n",
    "    w[w < min_word] = min_word\n",
    "    if i==0:\n",
    "        phrase = np.repeat(np.arange(ph), w)[:max_seq] + 1\n",
    "    else:\n",
    "        phrase = np.repeat(np.arange(ph), w)[:max_seq] + max_phrase + 1\n",
    "    max_phrase = np.max(phrase)\n",
    "    n0[i] = phrase.shape[0]\n",
    "    phrase_id0[i, :n0[i]] = phrase\n",
    "    phrase_no0[i, :n0[i]] = phrase - np.min(phrase) + 1\n",
    "    word_no0[i, :n0[i]] = np.arange(n0[i]) + 1\n",
    "    \n",
    "# 文書の統計量\n",
    "max_phrase_no0 = np.max(phrase_no0) \n",
    "max_word_no0 = np.max(word_no0) \n",
    "pt0 = np.array([np.sum(n0[d_id0==i]) for i in range(d0)])\n",
    "M0 = np.max(phrase_id0) - 1\n",
    "N0 = np.sum(n0)"
   ]
  },
  {
   "cell_type": "code",
   "execution_count": null,
   "metadata": {},
   "outputs": [],
   "source": [
    "# 単語を生成\n",
    "# パラメータを定義\n",
    "topic_arange = np.arange(topic)\n",
    "theta = np.random.dirichlet(np.repeat(0.5, topic), d0)\n",
    "\n",
    "# 文章ごとに単語を生成\n",
    "word_id0 = np.zeros((L0, max_seq), dtype=\"int\")\n",
    "for i in range(L0):\n",
    "    if i%10000==0:\n",
    "        print(i)\n",
    "    z = np.dot(np.random.multinomial(1, theta[d_id0[i], ], n0[i]), topic_arange)\n",
    "    word_id0[i, :n0[i]] = rmnom(phi[z, ], n0[i], topic, 0) + 1"
   ]
  },
  {
   "cell_type": "markdown",
   "metadata": {},
   "source": [
    "## パラメータと応答変数を生成"
   ]
  },
  {
   "cell_type": "code",
   "execution_count": null,
   "metadata": {},
   "outputs": [],
   "source": [
    "# パラメータの生成\n",
    "# 事前分布の定義\n",
    "fearture = 1024\n",
    "alpha = np.repeat(0.0, k)\n",
    "alpha_f1 = np.repeat(0.0, fearture)\n",
    "alpha_f2 = np.repeat(0.0, k)\n",
    "Cov_v1 = np.diag(np.append(np.repeat(0.25, k1), np.repeat(0.01, k2)))\n",
    "Cov_v2 = np.diag(np.append(np.repeat(0.01, k1), np.repeat(0.25, k2)))\n",
    "Cov_g = np.diag(np.repeat(0.25, k))\n",
    "Cov_w = np.diag(np.repeat(0.25, k))\n",
    "Cov_f1 = np.diag(np.repeat(0.2, fearture))\n",
    "Cov_f2 = np.diag(np.repeat(0.2, k))\n",
    "Cov = np.diag(np.repeat(0.1, k))\n",
    "\n",
    "# 埋め込みベクトルを定義\n",
    "theta_mask = np.repeat(0.0, k)\n",
    "theta_v1 = np.random.multivariate_normal(alpha, Cov_v1, v1)\n",
    "theta_v2 = np.random.multivariate_normal(alpha, Cov_v2, v2)\n",
    "theta_v = np.vstack((theta_mask, theta_v1, theta_v2))\n",
    "theta_w = np.vstack((theta_mask, np.random.multivariate_normal(theta_mask, Cov_w, max_word_no)))\n",
    "theta_g = np.vstack((theta_mask, np.random.multivariate_normal(theta_mask, Cov_g, max_phrase_no)))\n",
    "\n",
    "# Self-Attention層の全結合回帰パラメータ\n",
    "beta_k = np.random.multivariate_normal(alpha, Cov, k)\n",
    "beta_q = np.random.multivariate_normal(alpha, Cov, k)\n",
    "beta_v = np.random.multivariate_normal(alpha, Cov, k)\n",
    "\n",
    "# Feed-Forward層の全結合回帰パラメータ\n",
    "beta_f1 = np.random.multivariate_normal(alpha_f1, Cov_f1, k)\n",
    "beta_f2 = np.random.multivariate_normal(alpha_f2, Cov_f2, fearture)\n",
    "\n",
    "# Classification Head層の全結合回帰パラメータ\n",
    "beta = np.random.multivariate_normal(alpha, Cov, max_seq)"
   ]
  },
  {
   "cell_type": "code",
   "execution_count": null,
   "metadata": {},
   "outputs": [],
   "source": [
    "# 応答変数の生成\n",
    "# Embedding層のパラメータ\n",
    "Embedding = theta_v[word_id, ] + theta_w[word_no, ] + theta_g[phrase_no, ]\n"
   ]
  },
  {
   "cell_type": "code",
   "execution_count": null,
   "metadata": {},
   "outputs": [],
   "source": [
    "# 埋め込みベクトルの全結合層のパラメータ\n",
    "Linear_k = np.dot(Embedding[i, ], beta_k)\n",
    "Linear_q = np.dot(Embedding[i, ], beta_q)\n",
    "Linear_v = np.dot(Embedding[i, ], beta_v)\n",
    "\n",
    "# Self-Attention層のパラメータ\n",
    "weights = np.dot(Linear_k, Linear_q.T) / np.sqrt(k)\n",
    "weights_exp = np.exp(weights)\n",
    "weights_exp[weights==0] = 1e-300\n",
    "normalized_weights = weights_exp / np.sum(weights_exp, axis=1)[:, np.newaxis]\n",
    "normalized_weights[weights==0] = 0.0\n",
    "Attention = np.dot(normalized_weights, Linear_v)"
   ]
  },
  {
   "cell_type": "code",
   "execution_count": null,
   "metadata": {},
   "outputs": [],
   "source": [
    "# Feed Forward層で特徴量を変換\n",
    "\n"
   ]
  },
  {
   "cell_type": "code",
   "execution_count": null,
   "metadata": {},
   "outputs": [],
   "source": [
    "normalized_weights.shape"
   ]
  },
  {
   "cell_type": "code",
   "execution_count": null,
   "metadata": {},
   "outputs": [],
   "source": [
    "normalized_weights[weights==0]"
   ]
  },
  {
   "cell_type": "code",
   "execution_count": null,
   "metadata": {},
   "outputs": [],
   "source": [
    "weights"
   ]
  },
  {
   "cell_type": "code",
   "execution_count": null,
   "metadata": {},
   "outputs": [],
   "source": []
  }
 ],
 "metadata": {
  "kernelspec": {
   "display_name": "Python 3",
   "language": "python",
   "name": "python3"
  },
  "language_info": {
   "codemirror_mode": {
    "name": "ipython",
    "version": 3
   },
   "file_extension": ".py",
   "mimetype": "text/x-python",
   "name": "python",
   "nbconvert_exporter": "python",
   "pygments_lexer": "ipython3",
   "version": "3.7.3"
  }
 },
 "nbformat": 4,
 "nbformat_minor": 2
}
