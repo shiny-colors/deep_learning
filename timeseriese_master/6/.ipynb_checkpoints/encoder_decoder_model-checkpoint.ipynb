{
 "cells": [
  {
   "cell_type": "code",
   "execution_count": 1,
   "metadata": {},
   "outputs": [
    {
     "data": {
      "text/plain": [
       "<torch._C.Generator at 0x24e8cb45110>"
      ]
     },
     "execution_count": 1,
     "metadata": {},
     "output_type": "execute_result"
    }
   ],
   "source": [
    "import os\n",
    "import random\n",
    "import numpy as np\n",
    "import torch\n",
    "import torch.nn as nn\n",
    "import torch.optim as optimizers\n",
    "from torch.nn.utils.rnn import pad_packed_sequence, pack_padded_sequence\n",
    "from utils import Vocab\n",
    "from utils.torch import DataLoader\n",
    "\n",
    "np.random.seed(123)\n",
    "torch.manual_seed(123)"
   ]
  },
  {
   "cell_type": "code",
   "execution_count": 2,
   "metadata": {},
   "outputs": [],
   "source": [
    "class EarlyStopping:\n",
    "    '''\n",
    "    早期終了 (early stopping)\n",
    "    '''\n",
    "    def __init__(self, patience=0, verbose=0):\n",
    "        self._step = 0\n",
    "        self._loss = float('inf')\n",
    "        self.patience = patience\n",
    "        self.verbose = verbose\n",
    "\n",
    "    def __call__(self, loss):\n",
    "        if self._loss < loss:\n",
    "            self._step += 1\n",
    "            if self._step > self.patience:\n",
    "                if self.verbose:\n",
    "                    print('early stopping')\n",
    "                return True\n",
    "        else:\n",
    "            self._step = 0\n",
    "            self._loss = loss\n",
    "\n",
    "        return False\n",
    "    \n",
    "def sort(x, t):\n",
    "    lens = [len(i) for i in x]\n",
    "    indices = sorted(range(len(lens)), key=lambda i: -lens[i])\n",
    "    x = [x[i] for i in indices]\n",
    "    t = [t[i] for i in indices]\n",
    "    return (x, t)"
   ]
  },
  {
   "cell_type": "code",
   "execution_count": 42,
   "metadata": {},
   "outputs": [],
   "source": [
    "# データの準備\n",
    "data_dir = os.getcwd() + \"\\\\data\\\\small_parallel_enja-master\"\n",
    "en_train_path = os.path.join(data_dir, \"train.en\")\n",
    "en_val_path = os.path.join(data_dir, \"dev.en\")\n",
    "en_test_path = os.path.join(data_dir, \"test.en\")\n",
    "\n",
    "ja_train_path = os.path.join(data_dir, \"train.ja\")\n",
    "ja_val_path = os.path.join(data_dir, \"dev.ja\")\n",
    "ja_test_path = os.path.join(data_dir, \"test.ja\")\n",
    "\n",
    "en_vocab = Vocab()\n",
    "ja_vocab = Vocab()\n",
    "\n",
    "en_vocab.fit(en_train_path, encoding=\"utf-8\")\n",
    "ja_vocab.fit(ja_train_path, encoding=\"utf-8\")\n",
    "\n",
    "x_train = en_vocab.transform(en_train_path, encoding=\"utf-8\")\n",
    "x_val = en_vocab.transform(en_val_path, encoding=\"utf-8\")\n",
    "x_test = en_vocab.transform(en_test_path, encoding=\"utf-8\")\n",
    "\n",
    "t_train = ja_vocab.transform(ja_train_path, eos=True, encoding=\"utf-8\")\n",
    "t_val = ja_vocab.transform(ja_val_path, eos=True, encoding=\"utf-8\")\n",
    "t_test = ja_vocab.transform(ja_test_path, eos=True, encoding=\"utf-8\")\n",
    "\n",
    "(x_train, t_train) = sort(x_train, t_train)\n",
    "(x_val, t_val) = sort(x_val, t_val)\n",
    "(x_test, t_test) = sort(x_test, t_test)"
   ]
  },
  {
   "cell_type": "code",
   "execution_count": 44,
   "metadata": {},
   "outputs": [
    {
     "data": {
      "text/plain": [
       "<utils.torch.DataLoader.DataLoader at 0x24e9bb17688>"
      ]
     },
     "execution_count": 44,
     "metadata": {},
     "output_type": "execute_result"
    }
   ],
   "source": [
    "device = torch.device('cuda' if torch.cuda.is_available() else 'cpu')\n",
    "train_dataloader = DataLoader((x_train, t_train), batch_first=False, device=device)\n",
    "val_dataloader = DataLoader((x_val, t_val), batch_first=False, device=device)\n",
    "test_dataloader = DataLoader((x_test, t_test), batch_first=False, device=device)"
   ]
  },
  {
   "cell_type": "code",
   "execution_count": null,
   "metadata": {},
   "outputs": [],
   "source": []
  }
 ],
 "metadata": {
  "kernelspec": {
   "display_name": "Python 3",
   "language": "python",
   "name": "python3"
  },
  "language_info": {
   "codemirror_mode": {
    "name": "ipython",
    "version": 3
   },
   "file_extension": ".py",
   "mimetype": "text/x-python",
   "name": "python",
   "nbconvert_exporter": "python",
   "pygments_lexer": "ipython3",
   "version": "3.7.5"
  }
 },
 "nbformat": 4,
 "nbformat_minor": 2
}
