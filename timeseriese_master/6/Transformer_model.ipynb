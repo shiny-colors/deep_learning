{
 "cells": [
  {
   "cell_type": "code",
   "execution_count": 1,
   "metadata": {},
   "outputs": [
    {
     "data": {
      "text/plain": [
       "<torch._C.Generator at 0x20f81263250>"
      ]
     },
     "execution_count": 1,
     "metadata": {},
     "output_type": "execute_result"
    }
   ],
   "source": [
    "# ライブラリをインポート\n",
    "import os\n",
    "import random\n",
    "import numpy as np\n",
    "import torch\n",
    "import torch.nn as nn\n",
    "import torch.optim as optimizers\n",
    "from torch.nn.utils.rnn import pad_packed_sequence, pack_padded_sequence\n",
    "from utils import Vocab\n",
    "from utils.torch import DataLoader\n",
    "\n",
    "np.random.seed(123)\n",
    "torch.manual_seed(123)"
   ]
  },
  {
   "cell_type": "code",
   "execution_count": 2,
   "metadata": {},
   "outputs": [],
   "source": [
    "class EarlyStopping:\n",
    "    '''\n",
    "    早期終了 (early stopping)\n",
    "    '''\n",
    "    def __init__(self, patience=0, verbose=0):\n",
    "        self._step = 0\n",
    "        self._loss = float('inf')\n",
    "        self.patience = patience\n",
    "        self.verbose = verbose\n",
    "\n",
    "    def __call__(self, loss):\n",
    "        if self._loss < loss:\n",
    "            self._step += 1\n",
    "            if self._step > self.patience:\n",
    "                if self.verbose:\n",
    "                    print('early stopping')\n",
    "                return True\n",
    "        else:\n",
    "            self._step = 0\n",
    "            self._loss = loss\n",
    "\n",
    "        return False\n",
    "    \n",
    "def sort(x, t):\n",
    "    lens = [len(i) for i in x]\n",
    "    indices = sorted(range(len(lens)), key=lambda i: -lens[i])\n",
    "    x = [x[i] for i in indices]\n",
    "    t = [t[i] for i in indices]\n",
    "    return (x, t)"
   ]
  },
  {
   "cell_type": "code",
   "execution_count": 7,
   "metadata": {},
   "outputs": [],
   "source": [
    "# データの準備\n",
    "data_dir = os.getcwd() + \"\\\\data\\\\small_parallel_enja-master\"\n",
    "en_train_path = os.path.join(data_dir, \"train.en\")\n",
    "en_val_path = os.path.join(data_dir, \"dev.en\")\n",
    "en_test_path = os.path.join(data_dir, \"test.en\")\n",
    "\n",
    "ja_train_path = os.path.join(data_dir, \"train.ja\")\n",
    "ja_val_path = os.path.join(data_dir, \"dev.ja\")\n",
    "ja_test_path = os.path.join(data_dir, \"test.ja\")\n",
    "\n",
    "en_vocab = Vocab()\n",
    "ja_vocab = Vocab()\n",
    "\n",
    "en_vocab.fit(en_train_path, encoding=\"utf-8\")\n",
    "ja_vocab.fit(ja_train_path, encoding=\"utf-8\")\n",
    "\n",
    "x_train = en_vocab.transform(en_train_path, encoding=\"utf-8\")\n",
    "x_val = en_vocab.transform(en_val_path, encoding=\"utf-8\")\n",
    "x_test = en_vocab.transform(en_test_path, encoding=\"utf-8\")\n",
    "\n",
    "t_train = ja_vocab.transform(ja_train_path, bos=True, eos=True, encoding=\"utf-8\")\n",
    "t_val = ja_vocab.transform(ja_val_path, bos=True, eos=True, encoding=\"utf-8\")\n",
    "t_test = ja_vocab.transform(ja_test_path, bos=True, eos=True, encoding=\"utf-8\")\n",
    "\n",
    "(x_train, t_train) = sort(x_train, t_train)\n",
    "(x_val, t_val) = sort(x_val, t_val)\n",
    "(x_test, t_test) = sort(x_test, t_test)"
   ]
  },
  {
   "cell_type": "code",
   "execution_count": 8,
   "metadata": {},
   "outputs": [],
   "source": [
    "# データローダーの作成\n",
    "device = torch.device('cuda' if torch.cuda.is_available() else 'cpu')\n",
    "train_dataloader = DataLoader((x_train, t_train), batch_first=True, device=device)\n",
    "val_dataloader = DataLoader((x_val, t_val), batch_first=True, device=device)\n",
    "test_dataloader = DataLoader((x_test, t_test), batch_first=True, device=device)"
   ]
  },
  {
   "cell_type": "code",
   "execution_count": 13,
   "metadata": {},
   "outputs": [],
   "source": [
    "# データの取得\n",
    "depth_x = len(en_vocab.i2w)\n",
    "depth_t = len(ja_vocab.i2w)\n",
    "t_list = []\n",
    "x_list = []\n",
    "for (x, t) in train_dataloader:\n",
    "    x_list.append(x)\n",
    "    t_list.append(t)"
   ]
  },
  {
   "cell_type": "code",
   "execution_count": 31,
   "metadata": {},
   "outputs": [],
   "source": [
    "h = 4\n",
    "d_model = 128\n",
    "embedding = nn.Embedding(depth_x, d_model, padding_idx=0)"
   ]
  },
  {
   "cell_type": "code",
   "execution_count": 32,
   "metadata": {},
   "outputs": [],
   "source": [
    "i = 0\n",
    "source = x_list[i]\n",
    "x = embedding(source)"
   ]
  },
  {
   "cell_type": "code",
   "execution_count": 46,
   "metadata": {},
   "outputs": [
    {
     "data": {
      "text/plain": [
       "torch.Size([100, 16, 128])"
      ]
     },
     "execution_count": 46,
     "metadata": {},
     "output_type": "execute_result"
    }
   ],
   "source": [
    "x.shape"
   ]
  },
  {
   "cell_type": "code",
   "execution_count": 45,
   "metadata": {},
   "outputs": [],
   "source": [
    "d_k = d_model // h\n",
    "W_q = nn.Parameter(torch.Tensor(h, d_model, d_k))"
   ]
  },
  {
   "cell_type": "code",
   "execution_count": 39,
   "metadata": {},
   "outputs": [
    {
     "data": {
      "text/plain": [
       "tensor([[[-0.8554,  0.9074,  0.1261,  ..., -0.1127,  1.0324, -0.6538],\n",
       "         [-1.1377, -0.8992,  0.1839,  ..., -2.1439,  0.7091,  0.5749],\n",
       "         [-0.6035,  0.0469, -0.3464,  ...,  0.0236,  1.3681, -0.4501],\n",
       "         ...,\n",
       "         [ 0.2403, -0.7947, -0.2931,  ..., -1.2467,  1.1174,  0.3578],\n",
       "         [ 0.6558, -1.3517,  1.0385,  ...,  0.2543,  0.3051,  0.6280],\n",
       "         [ 0.3025, -0.1583, -1.1843,  ..., -0.7565,  0.6520,  0.9331]],\n",
       "\n",
       "        [[-0.9348,  0.0057,  2.4230,  ...,  0.2821, -1.3486,  0.1209],\n",
       "         [ 0.4774, -0.9994,  0.3008,  ...,  0.1884, -0.0973,  0.4717],\n",
       "         [ 1.2088, -0.4727,  0.2864,  ...,  0.0691, -1.5390, -0.4413],\n",
       "         ...,\n",
       "         [-0.1820,  0.8863,  0.9595,  ..., -0.7298, -1.0500, -0.1551],\n",
       "         [-0.7451,  1.7010, -2.0380,  ...,  0.0298,  0.0683, -1.1922],\n",
       "         [ 0.3025, -0.1583, -1.1843,  ..., -0.7565,  0.6520,  0.9331]],\n",
       "\n",
       "        [[-0.3765,  0.5637,  0.6893,  ...,  0.8063, -1.2274, -0.4222],\n",
       "         [-0.2369,  0.7803, -2.0637,  ..., -1.2197, -0.1268,  1.7534],\n",
       "         [ 0.0491,  1.6754,  0.2657,  ..., -0.4639,  1.0082, -1.3852],\n",
       "         ...,\n",
       "         [ 0.4774, -0.9994,  0.3008,  ...,  0.1884, -0.0973,  0.4717],\n",
       "         [-0.5873, -0.9188,  0.9618,  ...,  1.4577, -1.1876,  1.1161],\n",
       "         [ 0.3025, -0.1583, -1.1843,  ..., -0.7565,  0.6520,  0.9331]],\n",
       "\n",
       "        ...,\n",
       "\n",
       "        [[-0.5973,  0.1676, -1.7899,  ...,  0.2394, -1.8188, -0.0327],\n",
       "         [ 0.8183,  0.4181,  0.3351,  ...,  1.7378,  0.1912,  0.7438],\n",
       "         [-0.4136, -1.4669,  0.6975,  ..., -0.1378, -0.8328, -1.5867],\n",
       "         ...,\n",
       "         [-0.4762, -0.7107, -0.1012,  ...,  0.6767,  1.8442,  1.8513],\n",
       "         [ 0.3025, -0.1583, -1.1843,  ..., -0.7565,  0.6520,  0.9331],\n",
       "         [ 0.0000,  0.0000,  0.0000,  ...,  0.0000,  0.0000,  0.0000]],\n",
       "\n",
       "        [[ 0.8130,  0.7274,  0.7924,  ..., -0.9794, -0.2068,  0.3923],\n",
       "         [ 0.5249,  1.5996,  0.4274,  ...,  1.9617,  1.0434, -0.0695],\n",
       "         [ 0.9507, -0.3216, -0.9802,  ...,  1.0461, -0.3966,  0.7154],\n",
       "         ...,\n",
       "         [-0.3931,  1.2245,  0.3460,  ...,  0.3819,  0.4077, -0.1022],\n",
       "         [ 0.3025, -0.1583, -1.1843,  ..., -0.7565,  0.6520,  0.9331],\n",
       "         [ 0.0000,  0.0000,  0.0000,  ...,  0.0000,  0.0000,  0.0000]],\n",
       "\n",
       "        [[-0.2369,  0.7803, -2.0637,  ..., -1.2197, -0.1268,  1.7534],\n",
       "         [-0.2667, -1.6013, -0.9835,  ..., -0.1935,  0.2231, -0.2553],\n",
       "         [-0.3271,  0.1336,  0.9169,  ...,  0.4237,  0.1634, -0.1086],\n",
       "         ...,\n",
       "         [ 0.0748, -0.5229, -0.0373,  ..., -0.2049, -1.0962,  2.0342],\n",
       "         [ 0.3025, -0.1583, -1.1843,  ..., -0.7565,  0.6520,  0.9331],\n",
       "         [ 0.0000,  0.0000,  0.0000,  ...,  0.0000,  0.0000,  0.0000]]],\n",
       "       grad_fn=<SliceBackward>)"
      ]
     },
     "execution_count": 39,
     "metadata": {},
     "output_type": "execute_result"
    }
   ],
   "source": [
    "(x.unsqueeze(0).repeat(h, 1, 1, 1))[2, :, :, :]"
   ]
  },
  {
   "cell_type": "code",
   "execution_count": 36,
   "metadata": {},
   "outputs": [
    {
     "data": {
      "text/plain": [
       "torch.Size([100, 16, 128])"
      ]
     },
     "execution_count": 36,
     "metadata": {},
     "output_type": "execute_result"
    }
   ],
   "source": [
    "x.shape"
   ]
  },
  {
   "cell_type": "code",
   "execution_count": 28,
   "metadata": {},
   "outputs": [
    {
     "data": {
      "text/plain": [
       "torch.Size([1, 2, 3, 4])"
      ]
     },
     "execution_count": 28,
     "metadata": {},
     "output_type": "execute_result"
    }
   ],
   "source": [
    "torch.randn(1, 2, 3, 4).squeeze(1).shape"
   ]
  },
  {
   "cell_type": "code",
   "execution_count": null,
   "metadata": {},
   "outputs": [],
   "source": [
    "# モデルの構築\n",
    "nn.Embedding()"
   ]
  },
  {
   "cell_type": "code",
   "execution_count": null,
   "metadata": {},
   "outputs": [],
   "source": [
    "# モデルの構築\n",
    "# Encoder層を定義\n",
    "class Encoder(nn.Module):\n",
    "    def __init__(self, input_dim, hidden_dim, maxlen=20, device=\"cpu\"):\n",
    "        super().__init__()\n",
    "        self.device =device\n",
    "        self.embedding = nn.Embedding(input_dim, hidden_dim, padding_idx=0)\n",
    "        self.lstm = nn.LSTM(hidden_dim, hidden_dim)\n",
    "        \n",
    "        nn.init.xavier_normal_(self.lstm.weight_ih_l0)\n",
    "        nn.init.orthogonal_(self.lstm.weight_hh_l0)\n",
    "\n",
    "    def forward(self, x):\n",
    "        len_source_sequences = (x.T > 0).sum(dim=-1)\n",
    "        x = self.embedding(x)\n",
    "        x = pack_padded_sequence(x, len_source_sequences)\n",
    "        h, states = self.lstm(x)\n",
    "        h, _ = pad_packed_sequence(h)\n",
    "        return h, states\n",
    "    \n",
    "# Decoder層を定義\n",
    "class Decoder(nn.Module):\n",
    "    def __init__(self, hidden_dim, output_dim, device=\"cpu\"):\n",
    "        super().__init__()\n",
    "        self.device = device\n",
    "        self.embedding = nn.Embedding(output_dim, hidden_dim, padding_idx=0)\n",
    "        self.lstm = nn.LSTM(hidden_dim, hidden_dim)\n",
    "        self.attn = Attention(hidden_dim, hidden_dim, device=self.device)\n",
    "        self.out = nn.Linear(hidden_dim, output_dim)\n",
    "        \n",
    "        nn.init.xavier_normal_(self.lstm.weight_ih_l0)\n",
    "        nn.init.orthogonal_(self.lstm.weight_hh_l0)\n",
    "        nn.init.xavier_normal_(self.out.weight)\n",
    "\n",
    "    def forward(self, x, hs, states, source=None):\n",
    "        x = self.embedding(x)\n",
    "        ht, states = self.lstm(x, states)\n",
    "        ht = self.attn(ht, hs, source=source)\n",
    "        y = self.out(ht)\n",
    "        return y, states\n",
    "    \n",
    "# Attention層を定義\n",
    "class Attention(nn.Module):\n",
    "    def __init__(self, output_dim, hidden_dim, device=\"cpu\"):\n",
    "        super().__init__()\n",
    "        self.device = device\n",
    "        self.output_dim = output_dim\n",
    "        self.hidden_dim = hidden_dim\n",
    "\n",
    "        self.W_a = nn.Parameter(torch.Tensor(hidden_dim, hidden_dim))\n",
    "        self.W_c = nn.Parameter(torch.Tensor(hidden_dim + hidden_dim, output_dim))\n",
    "        self.b = nn.Parameter(torch.zeros(output_dim))\n",
    "\n",
    "        nn.init.xavier_normal_(self.W_a)\n",
    "        nn.init.xavier_normal_(self.W_c)\n",
    "\n",
    "    def forward(self, ht, hs, source=None):\n",
    "        # スコア関数の計算\n",
    "        score = torch.einsum(\"jik, kl->jil\", (hs, self.W_a))\n",
    "        score = torch.einsum(\"jik, lik->jil\", (ht, score))\n",
    "\n",
    "        # スコア関数を正規化\n",
    "        score = score - torch.max(score, dim=-1, keepdim=True)[0]\n",
    "        score = torch.exp(score)\n",
    "        if source is not None:\n",
    "            mask_source = source.t().eq(0).unsqueeze(0)   # バンディング部分を求める\n",
    "            score.data.masked_fill_(mask_source, 0)   #マスク処理\n",
    "        a = score / torch.sum(score, dim=-1, keepdim=True)\n",
    "\n",
    "        # 文脈ベクトルの計算\n",
    "        c = torch.einsum(\"jik, kil->jil\", (a, hs))\n",
    "\n",
    "        # 出力の計算\n",
    "        h = torch.cat((c, ht), -1)\n",
    "        return torch.tanh(torch.einsum(\"jik, kl->jil\", (h, self.W_c)) + self.b)\n",
    "    \n",
    "# Encoder Decoderモデルを定義\n",
    "class EncoderDecoder(nn.Module):\n",
    "    def __init__(self, input_dim, hidden_dim, output_dim, maxlen=20, device=\"cpu\"):\n",
    "        super().__init__()\n",
    "        self.device = device\n",
    "        self.encoder = Encoder(input_dim, hidden_dim, device=device)\n",
    "        self.decoder = Decoder(hidden_dim, output_dim, device=device)\n",
    "\n",
    "        self.maxlen = maxlen\n",
    "        self.output_dim = output_dim\n",
    "\n",
    "    def forward(self, source, target=None, use_teacher_forcing=False):\n",
    "        batch_size = source.size(1)\n",
    "        if target is not None:\n",
    "            len_target_sequences = target.size(0)\n",
    "        else:\n",
    "            len_target_sequences = self.maxlen\n",
    "\n",
    "        hs, states = self.encoder(source)\n",
    "        y = torch.ones((1, batch_size), dtype=torch.long, device=self.device)\n",
    "        output = torch.zeros((len_target_sequences, batch_size, self.output_dim), device=self.device)\n",
    "\n",
    "        for t in range(len_target_sequences):\n",
    "            out, states = self.decoder(y, hs, states, source=source)\n",
    "            output[t] = out\n",
    "\n",
    "            if use_teacher_forcing and target is not None:\n",
    "                y = target[t].unsqueeze(0)        \n",
    "            else:\n",
    "                y = out.max(-1)[1]\n",
    "        return output"
   ]
  },
  {
   "cell_type": "code",
   "execution_count": null,
   "metadata": {},
   "outputs": [],
   "source": [
    "# モデルの学習\n",
    "# データの定義\n",
    "depth_x = len(en_vocab.i2w)\n",
    "depth_t = len(ja_vocab.i2w)\n",
    "input_dim = depth_x\n",
    "hidden_dim = 128\n",
    "output_dim = depth_t\n",
    "\n",
    "# アルゴリズムの定義\n",
    "epochs = 30\n",
    "model = EncoderDecoder(input_dim, hidden_dim, output_dim, device=device).to(device)\n",
    "criterion = nn.CrossEntropyLoss(reduction=\"mean\", ignore_index=0)\n",
    "optimizer = optimizers.Adam(model.parameters(), lr=0.001, betas=(0.9, 0.999), amsgrad=True)\n",
    "\n",
    "def compute_loss(label, pred):\n",
    "    return criterion(pred, label)\n",
    "\n",
    "def train_step(x, t, teacher_forcing_rate=0.5):\n",
    "    use_teacher_forcing = (random.random() < teacher_forcing_rate)\n",
    "    model.train()\n",
    "    preds = model(x, t, use_teacher_forcing=use_teacher_forcing)\n",
    "    loss = compute_loss(t.reshape(-1), preds.view(-1, preds.size(-1)))\n",
    "    \n",
    "    optimizer.zero_grad()\n",
    "    loss.backward()\n",
    "    optimizer.step()\n",
    "    return loss, preds\n",
    "\n",
    "def val_step(x, t):\n",
    "    model.eval()\n",
    "    preds = model(x, t, use_teacher_forcing=False)\n",
    "    loss = compute_loss(t.reshape(-1), preds.view(-1, preds.size(-1)))\n",
    "    return loss, preds\n",
    "\n",
    "def test_step(x):\n",
    "    model.eval()\n",
    "    preds = model(x)\n",
    "    return preds"
   ]
  },
  {
   "cell_type": "code",
   "execution_count": null,
   "metadata": {},
   "outputs": [],
   "source": [
    "# 確率的勾配法でモデルを学習\n",
    "for epoch in range(epochs):\n",
    "    print(\"-\" * 20)\n",
    "    print(\"epoch: {}\".format(epoch+1))\n",
    "\n",
    "    train_loss = 0.0\n",
    "    val_loss = 0.0\n",
    "\n",
    "    for (x, t) in train_dataloader:\n",
    "        loss, _ = train_step(x, t)\n",
    "        train_loss += loss.item()\n",
    "\n",
    "    train_loss /= len(train_dataloader)\n",
    "\n",
    "    for (x, t) in val_dataloader:\n",
    "        loss, _ = val_step(x, t)\n",
    "        val_loss += loss.item()\n",
    "\n",
    "    val_loss /= len(val_dataloader)\n",
    "    print('loss: {:.3f}, val_loss: {:.3}'.format(\n",
    "        train_loss,\n",
    "        val_loss\n",
    "    ))\n",
    "\n",
    "    for idx, (x, t) in enumerate(test_dataloader):\n",
    "        preds = test_step(x)\n",
    "\n",
    "        source = x.T.reshape(-1).tolist()\n",
    "        target = t.T.reshape(-1).tolist()\n",
    "        out = preds.max(dim=-1)[1].T.reshape(-1).tolist()\n",
    "\n",
    "        source = ' '.join(en_vocab.decode(source))\n",
    "        target = ' '.join(ja_vocab.decode(target))\n",
    "        out = ' '.join(ja_vocab.decode(out))\n",
    "\n",
    "        print('>', source)\n",
    "        print('=', target)\n",
    "        print('<', out)\n",
    "        print()\n",
    "\n",
    "        if idx >= 9:\n",
    "            break"
   ]
  },
  {
   "cell_type": "code",
   "execution_count": null,
   "metadata": {},
   "outputs": [],
   "source": []
  }
 ],
 "metadata": {
  "kernelspec": {
   "display_name": "Python 3",
   "language": "python",
   "name": "python3"
  },
  "language_info": {
   "codemirror_mode": {
    "name": "ipython",
    "version": 3
   },
   "file_extension": ".py",
   "mimetype": "text/x-python",
   "name": "python",
   "nbconvert_exporter": "python",
   "pygments_lexer": "ipython3",
   "version": "3.7.3"
  }
 },
 "nbformat": 4,
 "nbformat_minor": 2
}
