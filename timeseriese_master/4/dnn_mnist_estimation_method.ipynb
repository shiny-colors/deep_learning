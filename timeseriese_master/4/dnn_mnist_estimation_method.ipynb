{
 "cells": [
  {
   "cell_type": "code",
   "execution_count": 15,
   "metadata": {},
   "outputs": [
    {
     "data": {
      "text/plain": [
       "<torch._C.Generator at 0x20724c7a1d0>"
      ]
     },
     "execution_count": 15,
     "metadata": {},
     "output_type": "execute_result"
    }
   ],
   "source": [
    "import os\n",
    "import numpy as np\n",
    "import pandas as pd\n",
    "import matplotlib.pyplot  as plt\n",
    "from sklearn.metrics import accuracy_score\n",
    "import torch\n",
    "import torch.nn as nn\n",
    "import torch.optim as optimizers\n",
    "from torch.utils.data import DataLoader\n",
    "from torchvision import datasets\n",
    "from torch.utils.data import random_split\n",
    "from callbacks import EarlyStopping\n",
    "import torchvision.transforms as transforms\n",
    "\n",
    "np.random.seed(123)\n",
    "torch.manual_seed(123)"
   ]
  },
  {
   "cell_type": "code",
   "execution_count": 2,
   "metadata": {},
   "outputs": [],
   "source": [
    "# データの準備\n",
    "path = \"D:Statistics/data/deep_leraning/\"\n",
    "root = os.path.join(path, \"torch\", \"mnist\")\n",
    "transform = transforms.Compose([transforms.ToTensor(), lambda x: x.view(-1)])\n",
    "mnist_train = datasets.MNIST(root=root, download=True, train=True, transform=transform)\n",
    "mnist_test = datasets.MNIST(root=root, download=True, train=False, transform=transform)\n",
    "\n",
    "n_samples = len(mnist_train)\n",
    "n_train = int(n_samples * 0.8)\n",
    "n_val = n_samples - n_train\n",
    "mnist_train, mnist_val = random_split(mnist_train, {n_train, n_val})\n",
    "\n",
    "train_dataloader = DataLoader(mnist_train, batch_size=100, shuffle=True)\n",
    "val_dataloader = DataLoader(mnist_val, batch_size=100, shuffle=True)\n",
    "test_dataloader = DataLoader(mnist_test, batch_size=100, shuffle=False)"
   ]
  },
  {
   "cell_type": "code",
   "execution_count": 3,
   "metadata": {},
   "outputs": [],
   "source": [
    "# DNNを定義\n",
    "class DNN(nn.Module):\n",
    "    def __init__(self, input_dim, hidden_dim, output_dim, rate):\n",
    "        super().__init__()\n",
    "        self.l1 = nn.Linear(input_dim, hidden_dim)\n",
    "        self.a1 = nn.ReLU()\n",
    "        self.d1 = nn.Dropout(rate)\n",
    "        self.l2 = nn.Linear(hidden_dim, hidden_dim)\n",
    "        self.a2 = nn.ReLU()\n",
    "        self.d2 = nn.Dropout(rate)\n",
    "        self.l3 = nn.Linear(hidden_dim, hidden_dim)\n",
    "        self.a3 = nn.ReLU()\n",
    "        self.d3 = nn.Dropout(rate)\n",
    "        self.l4 = nn.Linear(hidden_dim, output_dim)\n",
    "        self.layers = [self.l1, self.a1, self.d1, self.l2, self.a2, self.d2, self.l3, self.a3, self.d3, self.l4]\n",
    "\n",
    "    def forward(self, x):\n",
    "        for layer in self.layers:\n",
    "            x = layer(x)\n",
    "        return x"
   ]
  },
  {
   "cell_type": "code",
   "execution_count": 21,
   "metadata": {},
   "outputs": [],
   "source": [
    "# モデルの学習\n",
    "# アルゴリズムの定義\n",
    "device = torch.device(\"cuda\" if torch.cuda.is_available() else \"cpu\")\n",
    "classes = np.unique(train_dataloader.dataset.dataset.classes).shape[0]\n",
    "m = np.prod((train_dataloader.dataset.dataset.data).shape[1:])\n",
    "rate = 0.5\n",
    "model = DNN(m, 200, classes, rate).to(device)\n",
    "criterion = nn.CrossEntropyLoss()\n",
    "\n",
    "# optimizerを定義\n",
    "optimizer_sgd = optimizers.SGD(model.parameters(), lr=0.01)   # 確率的勾配法\n",
    "optimizer_momemtum = optimizers.SGD(model.parameters(), lr=0.01, momentum=0.9)   #モメンタム法\n",
    "optimizer_nesterov = optimizers.SGD(model.parameters(), lr=0.01, momentum=0.9, nesterov=True)   #N esterovモメンタム法\n",
    "optimizer_adagrad = optimizers.Adagrad(model.parameters(), lr=0.01)   # Adagrad\n",
    "optimizer_rms = optimizers.RMSprop(model.parameters(), lr=0.01)   # RMSproop\n",
    "optimizer_adadelta = optimizers.Adadelta(model.parameters(), rho=0.95)   # Adadelta\n",
    "optimizer_adam = optimizers.Adam(model.parameters(), lr=0.001, betas=(0.9, 0.999))   # Adam\n",
    "optimizer_amsgrad = optimizers.Adam(model.parameters(), lr=0.001, betas=(0.9, 0.999), amsgrad=True)   # AMSgrad\n",
    "\n",
    "def compute_loss(t, y):\n",
    "    return criterion(y, t)\n",
    "\n",
    "def train_step(x, t, optimizer):\n",
    "    model.train()\n",
    "    preds = model(x)\n",
    "    loss = compute_loss(t, preds)\n",
    "    optimizer.zero_grad()\n",
    "    loss.backward()\n",
    "    optimizer.step()\n",
    "    return loss, preds\n",
    "\n",
    "def val_step(x, t):\n",
    "    model.eval()\n",
    "    preds = model(x)\n",
    "    loss = criterion(preds, t)\n",
    "    return loss, preds\n",
    "\n",
    "# アルゴリズムの設定\n",
    "epochs = 30\n",
    "es = EarlyStopping(patience=5, verbose=1)\n",
    "disp = 5"
   ]
  },
  {
   "cell_type": "code",
   "execution_count": 23,
   "metadata": {},
   "outputs": [
    {
     "name": "stdout",
     "output_type": "stream",
     "text": [
      "epoch: 0, loss: 2.3, acc: 0.129, val_loss: 2.28, val_acc: 0.322\n",
      "epoch: 5, loss: 0.857, acc: 0.721, val_loss: 0.564, val_acc: 0.847\n",
      "epoch: 10, loss: 0.511, acc: 0.848, val_loss: 0.331, val_acc: 0.904\n",
      "epoch: 15, loss: 0.39, acc: 0.888, val_loss: 0.252, val_acc: 0.927\n",
      "epoch: 20, loss: 0.318, acc: 0.909, val_loss: 0.207, val_acc: 0.938\n",
      "epoch: 25, loss: 0.276, acc: 0.923, val_loss: 0.178, val_acc: 0.947\n"
     ]
    }
   ],
   "source": [
    "# 確率的勾配法でモデルを学習\n",
    "# optimizerを定義\n",
    "model = DNN(m, 200, classes, rate).to(device)\n",
    "optimizer_sgd = optimizers.SGD(model.parameters(), lr=0.01)   # 確率的勾配法\n",
    "hist_sgd = {\"train_loss\": [], \"train_accuracy\": [], \"val_loss\" : [], \"val_accuracy\": []}\n",
    "\n",
    "# パラメータを推定\n",
    "for epoch in range(epochs):\n",
    "    train_loss = 0.0\n",
    "    train_acc = 0.0\n",
    "    val_loss = 0.0\n",
    "    val_acc = 0.0\n",
    "\n",
    "    for (x, t) in train_dataloader:\n",
    "        x, t = x.to(device), t.to(device)\n",
    "        loss, preds = train_step(x, t, optimizer_sgd)\n",
    "        train_loss += loss.item()\n",
    "        train_acc += accuracy_score(t.tolist(), preds.argmax(dim=-1).tolist())\n",
    "\n",
    "    train_loss /= len(train_dataloader)\n",
    "    train_acc /= len(train_dataloader)\n",
    "    \n",
    "    hist_sgd[\"train_loss\"].append(train_loss)\n",
    "    hist_sgd[\"train_accuracy\"].append(train_acc)\n",
    "    \n",
    "    for (x, t) in val_dataloader:\n",
    "        x, t = x.to(device), t.to(device)\n",
    "        loss, preds = val_step(x, t)\n",
    "        val_loss += loss.item()\n",
    "        val_acc += accuracy_score(t.tolist(), preds.argmax(dim=-1).tolist())\n",
    "        \n",
    "    val_loss /= len(val_dataloader)\n",
    "    val_acc /= len(val_dataloader)\n",
    "    \n",
    "    hist_sgd[\"val_loss\"].append(val_loss)\n",
    "    hist_sgd[\"val_accuracy\"].append(val_acc)\n",
    "    \n",
    "    if epoch%disp==0:\n",
    "        print(\"epoch: {}, loss: {:.3}, acc: {:.3f}, val_loss: {:.3}, val_acc: {:.3f}\".format(\n",
    "            epoch, train_loss, train_acc, val_loss, val_acc))"
   ]
  },
  {
   "cell_type": "code",
   "execution_count": 26,
   "metadata": {},
   "outputs": [
    {
     "name": "stdout",
     "output_type": "stream",
     "text": [
      "epoch: 0, loss: 1.37, acc: 0.537, val_loss: 0.41, val_acc: 0.885\n",
      "epoch: 5, loss: 0.218, acc: 0.938, val_loss: 0.131, val_acc: 0.960\n",
      "epoch: 10, loss: 0.156, acc: 0.955, val_loss: 0.104, val_acc: 0.969\n",
      "epoch: 15, loss: 0.128, acc: 0.963, val_loss: 0.0953, val_acc: 0.972\n",
      "epoch: 20, loss: 0.113, acc: 0.967, val_loss: 0.0891, val_acc: 0.974\n",
      "epoch: 25, loss: 0.104, acc: 0.970, val_loss: 0.089, val_acc: 0.975\n"
     ]
    }
   ],
   "source": [
    "# モメンタム法でモデルを学習\n",
    "# optimizerを定義\n",
    "model = DNN(m, 200, classes, rate).to(device)\n",
    "optimizer_momemtum = optimizers.SGD(model.parameters(), lr=0.01, momentum=0.9)   #モメンタム法\n",
    "hist_momemtum = {\"train_loss\": [], \"train_accuracy\": [], \"val_loss\" : [], \"val_accuracy\": []}\n",
    "\n",
    "# パラメータを推定\n",
    "for epoch in range(epochs):\n",
    "    train_loss = 0.0\n",
    "    train_acc = 0.0\n",
    "    val_loss = 0.0\n",
    "    val_acc = 0.0\n",
    "\n",
    "    for (x, t) in train_dataloader:\n",
    "        x, t = x.to(device), t.to(device)\n",
    "        loss, preds = train_step(x, t, optimizer_momemtum)\n",
    "        train_loss += loss.item()\n",
    "        train_acc += accuracy_score(t.tolist(), preds.argmax(dim=-1).tolist())\n",
    "\n",
    "    train_loss /= len(train_dataloader)\n",
    "    train_acc /= len(train_dataloader)\n",
    "    \n",
    "    hist_momemtum[\"train_loss\"].append(train_loss)\n",
    "    hist_momemtum[\"train_accuracy\"].append(train_acc)\n",
    "    \n",
    "    for (x, t) in val_dataloader:\n",
    "        x, t = x.to(device), t.to(device)\n",
    "        loss, preds = val_step(x, t)\n",
    "        val_loss += loss.item()\n",
    "        val_acc += accuracy_score(t.tolist(), preds.argmax(dim=-1).tolist())\n",
    "        \n",
    "    val_loss /= len(val_dataloader)\n",
    "    val_acc /= len(val_dataloader)\n",
    "    \n",
    "    hist_momemtum[\"val_loss\"].append(val_loss)\n",
    "    hist_momemtum[\"val_accuracy\"].append(val_acc)\n",
    "    \n",
    "    \n",
    "    if epoch%disp==0:\n",
    "        print(\"epoch: {}, loss: {:.3}, acc: {:.3f}, val_loss: {:.3}, val_acc: {:.3f}\".format(\n",
    "            epoch, train_loss, train_acc, val_loss, val_acc))"
   ]
  },
  {
   "cell_type": "code",
   "execution_count": 27,
   "metadata": {},
   "outputs": [
    {
     "name": "stdout",
     "output_type": "stream",
     "text": [
      "epoch: 0, loss: 0.517, acc: 0.840, val_loss: 0.223, val_acc: 0.935\n",
      "epoch: 5, loss: 0.188, acc: 0.947, val_loss: 0.137, val_acc: 0.960\n",
      "epoch: 10, loss: 0.154, acc: 0.957, val_loss: 0.116, val_acc: 0.965\n",
      "epoch: 15, loss: 0.132, acc: 0.962, val_loss: 0.109, val_acc: 0.968\n",
      "epoch: 20, loss: 0.12, acc: 0.965, val_loss: 0.103, val_acc: 0.970\n",
      "epoch: 25, loss: 0.11, acc: 0.968, val_loss: 0.101, val_acc: 0.971\n"
     ]
    }
   ],
   "source": [
    "# Adagradでモデルを学習\n",
    "# optimizerを定義\n",
    "model = DNN(m, 200, classes, rate).to(device)\n",
    "optimizer_adagrad = optimizers.Adagrad(model.parameters(), lr=0.01)   # Adagrad\n",
    "hist_adagrad = {\"train_loss\": [], \"train_accuracy\": [], \"val_loss\" : [], \"val_accuracy\": []}\n",
    "\n",
    "# パラメータを推定\n",
    "for epoch in range(epochs):\n",
    "    train_loss = 0.0\n",
    "    train_acc = 0.0\n",
    "    val_loss = 0.0\n",
    "    val_acc = 0.0\n",
    "\n",
    "    for (x, t) in train_dataloader:\n",
    "        x, t = x.to(device), t.to(device)\n",
    "        loss, preds = train_step(x, t, optimizer_adagrad)\n",
    "        train_loss += loss.item()\n",
    "        train_acc += accuracy_score(t.tolist(), preds.argmax(dim=-1).tolist())\n",
    "\n",
    "    train_loss /= len(train_dataloader)\n",
    "    train_acc /= len(train_dataloader)\n",
    "    \n",
    "    hist_adagrad[\"train_loss\"].append(train_loss)\n",
    "    hist_adagrad[\"train_accuracy\"].append(train_acc)\n",
    "    \n",
    "    for (x, t) in val_dataloader:\n",
    "        x, t = x.to(device), t.to(device)\n",
    "        loss, preds = val_step(x, t)\n",
    "        val_loss += loss.item()\n",
    "        val_acc += accuracy_score(t.tolist(), preds.argmax(dim=-1).tolist())\n",
    "        \n",
    "    val_loss /= len(val_dataloader)\n",
    "    val_acc /= len(val_dataloader)\n",
    "    \n",
    "    hist_adagrad[\"val_loss\"].append(val_loss)\n",
    "    hist_adagrad[\"val_accuracy\"].append(val_acc)\n",
    "    \n",
    "    if epoch%disp==0: \n",
    "        print(\"epoch: {}, loss: {:.3}, acc: {:.3f}, val_loss: {:.3}, val_acc: {:.3f}\".format(\n",
    "            epoch, train_loss, train_acc, val_loss, val_acc))"
   ]
  },
  {
   "cell_type": "code",
   "execution_count": 28,
   "metadata": {},
   "outputs": [
    {
     "name": "stdout",
     "output_type": "stream",
     "text": [
      "epoch: 0, loss: 0.608, acc: 0.806, val_loss: 0.206, val_acc: 0.940\n",
      "epoch: 5, loss: 0.181, acc: 0.951, val_loss: 0.116, val_acc: 0.968\n",
      "epoch: 10, loss: 0.143, acc: 0.961, val_loss: 0.118, val_acc: 0.972\n",
      "epoch: 15, loss: 0.126, acc: 0.967, val_loss: 0.108, val_acc: 0.974\n",
      "epoch: 20, loss: 0.117, acc: 0.970, val_loss: 0.107, val_acc: 0.974\n",
      "epoch: 25, loss: 0.105, acc: 0.973, val_loss: 0.107, val_acc: 0.975\n"
     ]
    }
   ],
   "source": [
    "# AdaDeltaでモデルを学習\n",
    "# optimizerを定義\n",
    "model = DNN(m, 200, classes, rate).to(device)\n",
    "optimizer_adadelta = optimizers.Adadelta(model.parameters(), rho=0.95)   # Adadelta\n",
    "hist_adadelta = {\"train_loss\": [], \"train_accuracy\": [], \"val_loss\" : [], \"val_accuracy\": []}\n",
    "\n",
    "# パラメータを推定\n",
    "for epoch in range(epochs):\n",
    "    train_loss = 0.0\n",
    "    train_acc = 0.0\n",
    "    val_loss = 0.0\n",
    "    val_acc = 0.0\n",
    "\n",
    "    for (x, t) in train_dataloader:\n",
    "        x, t = x.to(device), t.to(device)\n",
    "        loss, preds = train_step(x, t, optimizer_adadelta)\n",
    "        train_loss += loss.item()\n",
    "        train_acc += accuracy_score(t.tolist(), preds.argmax(dim=-1).tolist())\n",
    "\n",
    "    train_loss /= len(train_dataloader)\n",
    "    train_acc /= len(train_dataloader)\n",
    "    \n",
    "    hist_adadelta[\"train_loss\"].append(train_loss)\n",
    "    hist_adadelta[\"train_accuracy\"].append(train_acc)\n",
    "    \n",
    "    for (x, t) in val_dataloader:\n",
    "        x, t = x.to(device), t.to(device)\n",
    "        loss, preds = val_step(x, t)\n",
    "        val_loss += loss.item()\n",
    "        val_acc += accuracy_score(t.tolist(), preds.argmax(dim=-1).tolist())\n",
    "        \n",
    "    val_loss /= len(val_dataloader)\n",
    "    val_acc /= len(val_dataloader)\n",
    "    \n",
    "    hist_adadelta[\"val_loss\"].append(val_loss)\n",
    "    hist_adadelta[\"val_accuracy\"].append(val_acc)\n",
    "    \n",
    "    if epoch%disp==0:\n",
    "        print(\"epoch: {}, loss: {:.3}, acc: {:.3f}, val_loss: {:.3}, val_acc: {:.3f}\".format(\n",
    "            epoch, train_loss, train_acc, val_loss, val_acc))"
   ]
  },
  {
   "cell_type": "code",
   "execution_count": 29,
   "metadata": {},
   "outputs": [
    {
     "name": "stdout",
     "output_type": "stream",
     "text": [
      "epoch: 0, loss: 0.603, acc: 0.809, val_loss: 0.209, val_acc: 0.937\n",
      "epoch: 5, loss: 0.162, acc: 0.954, val_loss: 0.105, val_acc: 0.969\n",
      "epoch: 10, loss: 0.124, acc: 0.965, val_loss: 0.096, val_acc: 0.972\n",
      "epoch: 15, loss: 0.108, acc: 0.968, val_loss: 0.0902, val_acc: 0.973\n",
      "epoch: 20, loss: 0.0983, acc: 0.971, val_loss: 0.0834, val_acc: 0.976\n",
      "epoch: 25, loss: 0.0926, acc: 0.973, val_loss: 0.089, val_acc: 0.976\n"
     ]
    }
   ],
   "source": [
    "# Adamでモデルを学習\n",
    "# optimizerを定義\n",
    "model = DNN(m, 200, classes, rate).to(device)\n",
    "optimizer_adam = optimizers.Adam(model.parameters(), lr=0.001, betas=(0.9, 0.999))   # Adam\n",
    "hist_adam = {\"train_loss\": [], \"train_accuracy\": [], \"val_loss\" : [], \"val_accuracy\": []}\n",
    "\n",
    "# パラメータを推定\n",
    "for epoch in range(epochs):\n",
    "    train_loss = 0.0\n",
    "    train_acc = 0.0\n",
    "    val_loss = 0.0\n",
    "    val_acc = 0.0\n",
    "\n",
    "    for (x, t) in train_dataloader:\n",
    "        x, t = x.to(device), t.to(device)\n",
    "        loss, preds = train_step(x, t, optimizer_adam)\n",
    "        train_loss += loss.item()\n",
    "        train_acc += accuracy_score(t.tolist(), preds.argmax(dim=-1).tolist())\n",
    "\n",
    "    train_loss /= len(train_dataloader)\n",
    "    train_acc /= len(train_dataloader)\n",
    "\n",
    "    hist_adam[\"train_loss\"].append(train_loss)\n",
    "    hist_adam[\"train_accuracy\"].append(train_acc)\n",
    "    \n",
    "    for (x, t) in val_dataloader:\n",
    "        x, t = x.to(device), t.to(device)\n",
    "        loss, preds = val_step(x, t)\n",
    "        val_loss += loss.item()\n",
    "        val_acc += accuracy_score(t.tolist(), preds.argmax(dim=-1).tolist())\n",
    "        \n",
    "    val_loss /= len(val_dataloader)\n",
    "    val_acc /= len(val_dataloader)\n",
    "    \n",
    "    hist_adam[\"val_loss\"].append(val_loss)\n",
    "    hist_adam[\"val_accuracy\"].append(val_acc)\n",
    "    \n",
    "    if epoch%disp==0:\n",
    "        print(\"epoch: {}, loss: {:.3}, acc: {:.3f}, val_loss: {:.3}, val_acc: {:.3f}\".format(\n",
    "            epoch, train_loss, train_acc, val_loss, val_acc))"
   ]
  },
  {
   "cell_type": "code",
   "execution_count": 30,
   "metadata": {},
   "outputs": [
    {
     "name": "stdout",
     "output_type": "stream",
     "text": [
      "epoch: 0, loss: 0.602, acc: 0.809, val_loss: 0.208, val_acc: 0.937\n",
      "epoch: 5, loss: 0.158, acc: 0.954, val_loss: 0.109, val_acc: 0.967\n",
      "epoch: 10, loss: 0.123, acc: 0.964, val_loss: 0.0885, val_acc: 0.974\n",
      "epoch: 15, loss: 0.105, acc: 0.969, val_loss: 0.0871, val_acc: 0.974\n",
      "epoch: 20, loss: 0.0916, acc: 0.973, val_loss: 0.0918, val_acc: 0.975\n",
      "epoch: 25, loss: 0.0834, acc: 0.975, val_loss: 0.0908, val_acc: 0.976\n"
     ]
    }
   ],
   "source": [
    "# AMSGradでモデルを学習\n",
    "# optimizerを定義\n",
    "model = DNN(m, 200, classes, rate).to(device)\n",
    "optimizer_amsgrad = optimizers.Adam(model.parameters(), lr=0.001, betas=(0.9, 0.999), amsgrad=True)   # AMSgrad\n",
    "hist_amsgrad = {\"train_loss\": [], \"train_accuracy\": [], \"val_loss\" : [], \"val_accuracy\": []}\n",
    "\n",
    "# パラメータを推定\n",
    "for epoch in range(epochs):\n",
    "    train_loss = 0.0\n",
    "    train_acc = 0.0\n",
    "    val_loss = 0.0\n",
    "    val_acc = 0.0\n",
    "\n",
    "    for (x, t) in train_dataloader:\n",
    "        x, t = x.to(device), t.to(device)\n",
    "        loss, preds = train_step(x, t, optimizer_amsgrad)\n",
    "        train_loss += loss.item()\n",
    "        train_acc += accuracy_score(t.tolist(), preds.argmax(dim=-1).tolist())\n",
    "\n",
    "    train_loss /= len(train_dataloader)\n",
    "    train_acc /= len(train_dataloader)\n",
    "    \n",
    "    hist_amsgrad[\"train_loss\"].append(train_loss)\n",
    "    hist_amsgrad[\"train_accuracy\"].append(train_acc)\n",
    "    \n",
    "    for (x, t) in val_dataloader:\n",
    "        x, t = x.to(device), t.to(device)\n",
    "        loss, preds = val_step(x, t)\n",
    "        val_loss += loss.item()\n",
    "        val_acc += accuracy_score(t.tolist(), preds.argmax(dim=-1).tolist())\n",
    "        \n",
    "    val_loss /= len(val_dataloader)\n",
    "    val_acc /= len(val_dataloader)\n",
    "    \n",
    "    hist_amsgrad[\"val_loss\"].append(val_loss)\n",
    "    hist_amsgrad[\"val_accuracy\"].append(val_acc)\n",
    "    \n",
    "    if epoch%disp==0:\n",
    "        print(\"epoch: {}, loss: {:.3}, acc: {:.3f}, val_loss: {:.3}, val_acc: {:.3f}\".format(\n",
    "            epoch, train_loss, train_acc, val_loss, val_acc))"
   ]
  },
  {
   "cell_type": "code",
   "execution_count": 63,
   "metadata": {},
   "outputs": [
    {
     "data": {
      "text/plain": [
       "<matplotlib.legend.Legend at 0x20735ef0710>"
      ]
     },
     "execution_count": 63,
     "metadata": {},
     "output_type": "execute_result"
    },
    {
     "data": {
      "image/png": "[encoded data removed]",
      "text/plain": [
       "<Figure size 864x468 with 1 Axes>"
      ]
     },
     "metadata": {
      "needs_background": "light"
     },
     "output_type": "display_data"
    }
   ],
   "source": [
    "# 損失関数の推移を可視化\n",
    "# データフレームに格納\n",
    "target = \"train_loss\"\n",
    "loss_result= pd.DataFrame({\"SGD\": hist_sgd[target], \"momemtum\": hist_momemtum[target], \"AdaGrad\": hist_adagrad[target],\n",
    "                           \"AdaDelta\": hist_adadelta[target], \"Adam\": hist_adam[target], \"AMSGrad\": hist_amsgrad[target]})\n",
    "k = loss_result.shape[1]\n",
    "\n",
    "# 最適化手法ごとに可視化\n",
    "fig = plt.figure(figsize=(12.0, 6.5))\n",
    "for j in range(k):\n",
    "    plt.plot(loss_result.iloc[:, j], label=loss_result.columns[j], linewidth=2.0)\n",
    "    plt.title(\"最適化手法ごとの損失の推移\")\n",
    "    plt.xlabel(\"iteration\", fontsize=12.0)\n",
    "    plt.ylabel(\"loss\", fontsize=12.0)\n",
    "plt.legend()"
   ]
  },
  {
   "cell_type": "code",
   "execution_count": null,
   "metadata": {},
   "outputs": [],
   "source": []
  },
  {
   "cell_type": "code",
   "execution_count": null,
   "metadata": {},
   "outputs": [],
   "source": []
  }
 ],
 "metadata": {
  "kernelspec": {
   "display_name": "Python 3",
   "language": "python",
   "name": "python3"
  },
  "language_info": {
   "codemirror_mode": {
    "name": "ipython",
    "version": 3
   },
   "file_extension": ".py",
   "mimetype": "text/x-python",
   "name": "python",
   "nbconvert_exporter": "python",
   "pygments_lexer": "ipython3",
   "version": "3.7.3"
  }
 },
 "nbformat": 4,
 "nbformat_minor": 2
}
