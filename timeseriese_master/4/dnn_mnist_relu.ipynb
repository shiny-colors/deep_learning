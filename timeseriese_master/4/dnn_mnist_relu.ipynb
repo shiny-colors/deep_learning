{
 "cells": [
  {
   "cell_type": "code",
   "execution_count": 1,
   "metadata": {},
   "outputs": [
    {
     "data": {
      "text/plain": [
       "<torch._C.Generator at 0x1bc19e391d0>"
      ]
     },
     "execution_count": 1,
     "metadata": {},
     "output_type": "execute_result"
    }
   ],
   "source": [
    "import os\n",
    "import numpy as np\n",
    "import pandas as pd\n",
    "from sklearn.metrics import accuracy_score\n",
    "import torch\n",
    "import torch.nn as nn\n",
    "import torch.optim as optimizers\n",
    "from torch.utils.data import DataLoader\n",
    "from torchvision import datasets\n",
    "import torchvision.transforms as transforms\n",
    "\n",
    "np.random.seed(123)\n",
    "torch.manual_seed(123)"
   ]
  },
  {
   "cell_type": "code",
   "execution_count": 2,
   "metadata": {},
   "outputs": [],
   "source": [
    "# データの準備\n",
    "path = \"D:Statistics/data/deep_leraning/\"\n",
    "root = os.path.join(path, \"torch\", \"mnist\")\n",
    "transform = transforms.Compose([transforms.ToTensor(), lambda x: x.view(-1)])\n",
    "mnist_train = datasets.MNIST(root=root, download=True, train=True, transform=transform)\n",
    "mnist_test = datasets.MNIST(root=root, download=True, train=False, transform=transform)\n",
    "\n",
    "train_dataloader = DataLoader(mnist_train, batch_size=100, shuffle=True)\n",
    "test_dataloader = DataLoader(mnist_test, batch_size=100, shuffle=False)"
   ]
  },
  {
   "cell_type": "code",
   "execution_count": 12,
   "metadata": {},
   "outputs": [],
   "source": [
    "# DNNを定義\n",
    "class DNN1(nn.Module):\n",
    "    def __init__(self, input_dim, hidden_dim, output_dim):\n",
    "        super().__init__()\n",
    "        self.l1 = nn.Linear(input_dim, hidden_dim)\n",
    "        self.a1 = nn.ReLU()\n",
    "        self.l2 = nn.Linear(hidden_dim, hidden_dim)\n",
    "        self.a2 = nn.ReLU()\n",
    "        self.l3 = nn.Linear(hidden_dim, hidden_dim)\n",
    "        self.a3 = nn.ReLU()\n",
    "        self.l4 = nn.Linear(hidden_dim, output_dim)\n",
    "        self.layers = [self.l1, self.a1, self.l2, self.a2, self.l3, self.a3, self.l4]\n",
    "\n",
    "    def forward(self, x):\n",
    "        for layer in self.layers:\n",
    "            x = layer(x)\n",
    "        return x\n",
    "    \n",
    "class DNN2(nn.Module):\n",
    "    def __init__(self, input_dim, hidden_dim, output_dim):\n",
    "        super().__init__()\n",
    "        self.l1 = nn.Linear(input_dim, hidden_dim)\n",
    "        self.a1 = nn.LeakyReLU(0.1)\n",
    "        self.l2 = nn.Linear(hidden_dim, hidden_dim)\n",
    "        self.a2 = nn.LeakyReLU(0.1)\n",
    "        self.l3 = nn.Linear(hidden_dim, hidden_dim)\n",
    "        self.a3 = nn.LeakyReLU(0.1)\n",
    "        self.l4 = nn.Linear(hidden_dim, output_dim)\n",
    "        self.layers = [self.l1, self.a1, self.l2, self.a2, self.l3, self.a3, self.l4]\n",
    "\n",
    "    def forward(self, x):\n",
    "        for layer in self.layers:\n",
    "            x = layer(x)\n",
    "        return x"
   ]
  },
  {
   "cell_type": "code",
   "execution_count": 13,
   "metadata": {},
   "outputs": [],
   "source": [
    "# モデルの学習\n",
    "# アルゴリズムの定義\n",
    "device = torch.device(\"cuda\" if torch.cuda.is_available() else \"cpu\")\n",
    "classes = np.unique(train_dataloader.dataset.classes).shape[0]\n",
    "m = np.prod(train_dataloader.dataset.data.shape[1:])\n",
    "model = DNN2(m, 200, classes).to(device)\n",
    "criterion = nn.CrossEntropyLoss()\n",
    "optimizer = optimizers.SGD(model.parameters(), lr=0.01)\n",
    "\n",
    "def compute_loss(t, y):\n",
    "    return criterion(y, t)\n",
    "\n",
    "def train_step(x, t):\n",
    "    model.train()\n",
    "    preds = model(x)\n",
    "    loss = compute_loss(t, preds)\n",
    "    optimizer.zero_grad()\n",
    "    loss.backward()\n",
    "    optimizer.step()\n",
    "    return loss, preds\n",
    "\n",
    "# アルゴリズムの設定\n",
    "epochs = 30"
   ]
  },
  {
   "cell_type": "code",
   "execution_count": 14,
   "metadata": {},
   "outputs": [
    {
     "name": "stdout",
     "output_type": "stream",
     "text": [
      "epoch: 1, loss: 2.28, acc: 0.211\n",
      "epoch: 2, loss: 1.99, acc: 0.553\n",
      "epoch: 3, loss: 0.824, acc: 0.776\n",
      "epoch: 4, loss: 0.487, acc: 0.860\n",
      "epoch: 5, loss: 0.4, acc: 0.884\n",
      "epoch: 6, loss: 0.361, acc: 0.897\n",
      "epoch: 7, loss: 0.335, acc: 0.904\n",
      "epoch: 8, loss: 0.314, acc: 0.910\n",
      "epoch: 9, loss: 0.296, acc: 0.915\n",
      "epoch: 10, loss: 0.28, acc: 0.920\n",
      "epoch: 11, loss: 0.264, acc: 0.924\n",
      "epoch: 12, loss: 0.251, acc: 0.928\n",
      "epoch: 13, loss: 0.238, acc: 0.932\n",
      "epoch: 14, loss: 0.227, acc: 0.934\n",
      "epoch: 15, loss: 0.215, acc: 0.938\n",
      "epoch: 16, loss: 0.205, acc: 0.941\n",
      "epoch: 17, loss: 0.196, acc: 0.944\n",
      "epoch: 18, loss: 0.187, acc: 0.946\n",
      "epoch: 19, loss: 0.179, acc: 0.949\n",
      "epoch: 20, loss: 0.172, acc: 0.951\n",
      "epoch: 21, loss: 0.165, acc: 0.953\n",
      "epoch: 22, loss: 0.158, acc: 0.954\n",
      "epoch: 23, loss: 0.152, acc: 0.956\n",
      "epoch: 24, loss: 0.145, acc: 0.958\n",
      "epoch: 25, loss: 0.14, acc: 0.960\n",
      "epoch: 26, loss: 0.134, acc: 0.961\n",
      "epoch: 27, loss: 0.129, acc: 0.962\n",
      "epoch: 28, loss: 0.124, acc: 0.964\n",
      "epoch: 29, loss: 0.12, acc: 0.966\n",
      "epoch: 30, loss: 0.116, acc: 0.967\n"
     ]
    }
   ],
   "source": [
    "# 確率的勾配法でモデルを学習\n",
    "for epoch in range(epochs):\n",
    "    train_loss = 0.0\n",
    "    train_acc = 0.0\n",
    "\n",
    "    for (x, t) in train_dataloader:\n",
    "        x, t = x.to(device), t.to(device)\n",
    "        loss, preds = train_step(x, t)\n",
    "        train_loss += loss.item()\n",
    "        train_acc += accuracy_score(t.tolist(), preds.argmax(dim=-1).tolist())\n",
    "\n",
    "    train_loss /= len(train_dataloader)\n",
    "    train_acc /= len(train_dataloader)\n",
    "    print(\"epoch: {}, loss: {:.3}, acc: {:,.3f}\".format(epoch+1, train_loss, train_acc))"
   ]
  },
  {
   "cell_type": "code",
   "execution_count": 15,
   "metadata": {},
   "outputs": [
    {
     "name": "stdout",
     "output_type": "stream",
     "text": [
      "test_loss: 0.122, test_acc: 0.964\n"
     ]
    }
   ],
   "source": [
    "# モデルの評価\n",
    "def test_step(x, t):\n",
    "    model.eval()\n",
    "    preds = model(x)\n",
    "    loss = criterion(preds, t)\n",
    "    return loss, preds\n",
    "\n",
    "test_loss = 0.0\n",
    "test_acc = 0.0\n",
    "\n",
    "for (x, t) in test_dataloader:\n",
    "    x, t = x.to(device), t.to(device)\n",
    "    loss, preds = test_step(x, t)\n",
    "    test_loss += loss.item()\n",
    "    test_acc += accuracy_score(t.tolist(), preds.argmax(dim=-1).tolist())\n",
    "\n",
    "test_loss /= len(test_dataloader)\n",
    "test_acc /= len(test_dataloader)\n",
    "print('test_loss: {:.3f}, test_acc: {:.3f}'.format(test_loss, test_acc))"
   ]
  },
  {
   "cell_type": "code",
   "execution_count": null,
   "metadata": {},
   "outputs": [],
   "source": []
  },
  {
   "cell_type": "code",
   "execution_count": null,
   "metadata": {},
   "outputs": [],
   "source": []
  }
 ],
 "metadata": {
  "kernelspec": {
   "display_name": "Python 3",
   "language": "python",
   "name": "python3"
  },
  "language_info": {
   "codemirror_mode": {
    "name": "ipython",
    "version": 3
   },
   "file_extension": ".py",
   "mimetype": "text/x-python",
   "name": "python",
   "nbconvert_exporter": "python",
   "pygments_lexer": "ipython3",
   "version": "3.7.3"
  }
 },
 "nbformat": 4,
 "nbformat_minor": 2
}
