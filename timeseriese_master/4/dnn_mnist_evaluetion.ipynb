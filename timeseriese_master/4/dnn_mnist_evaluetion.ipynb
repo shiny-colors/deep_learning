{
 "cells": [
  {
   "cell_type": "code",
   "execution_count": 45,
   "metadata": {},
   "outputs": [
    {
     "data": {
      "text/plain": [
       "<torch._C.Generator at 0x16b418f61f0>"
      ]
     },
     "execution_count": 45,
     "metadata": {},
     "output_type": "execute_result"
    }
   ],
   "source": [
    "import os\n",
    "import numpy as np\n",
    "import pandas as pd\n",
    "from sklearn.metrics import accuracy_score\n",
    "import torch\n",
    "import torch.nn as nn\n",
    "import torch.optim as optimizers\n",
    "from torch.utils.data import DataLoader\n",
    "from torchvision import datasets\n",
    "from torch.utils.data import random_split\n",
    "from callbacks import EarlyStopping\n",
    "import torchvision.transforms as transforms\n",
    "\n",
    "np.random.seed(123)\n",
    "torch.manual_seed(123)"
   ]
  },
  {
   "cell_type": "code",
   "execution_count": 46,
   "metadata": {},
   "outputs": [],
   "source": [
    "# データの準備\n",
    "path = \"D:Statistics/data/deep_leraning/\"\n",
    "root = os.path.join(path, \"torch\", \"mnist\")\n",
    "transform = transforms.Compose([transforms.ToTensor(), lambda x: x.view(-1)])\n",
    "mnist_train = datasets.MNIST(root=root, download=True, train=True, transform=transform)\n",
    "mnist_test = datasets.MNIST(root=root, download=True, train=False, transform=transform)\n",
    "\n",
    "n_samples = len(mnist_train)\n",
    "n_train = int(n_samples * 0.8)\n",
    "n_val = n_samples - n_train\n",
    "mnist_train, mnist_val = random_split(mnist_train, {n_train, n_val})\n",
    "\n",
    "train_dataloader = DataLoader(mnist_train, batch_size=100, shuffle=True)\n",
    "val_dataloader = DataLoader(mnist_val, batch_size=100, shuffle=True)\n",
    "test_dataloader = DataLoader(mnist_test, batch_size=100, shuffle=False)"
   ]
  },
  {
   "cell_type": "code",
   "execution_count": 47,
   "metadata": {},
   "outputs": [],
   "source": [
    "# DNNを定義\n",
    "class DNN(nn.Module):\n",
    "    def __init__(self, input_dim, hidden_dim, output_dim, rate):\n",
    "        super().__init__()\n",
    "        self.l1 = nn.Linear(input_dim, hidden_dim)\n",
    "        self.a1 = nn.ReLU()\n",
    "        self.d1 = nn.Dropout(rate)\n",
    "        self.l2 = nn.Linear(hidden_dim, hidden_dim)\n",
    "        self.a2 = nn.ReLU()\n",
    "        self.d2 = nn.Dropout(rate)\n",
    "        self.l3 = nn.Linear(hidden_dim, hidden_dim)\n",
    "        self.a3 = nn.ReLU()\n",
    "        self.d3 = nn.Dropout(rate)\n",
    "        self.l4 = nn.Linear(hidden_dim, output_dim)\n",
    "        self.layers = [self.l1, self.a1, self.d1, self.l2, self.a2, self.d2, self.l3, self.a3, self.d3, self.l4]\n",
    "\n",
    "    def forward(self, x):\n",
    "        for layer in self.layers:\n",
    "            x = layer(x)\n",
    "        return x"
   ]
  },
  {
   "cell_type": "code",
   "execution_count": 48,
   "metadata": {},
   "outputs": [],
   "source": [
    "# モデルの学習\n",
    "# アルゴリズムの定義\n",
    "device = torch.device(\"cuda\" if torch.cuda.is_available() else \"cpu\")\n",
    "classes = np.unique(train_dataloader.dataset.dataset.classes).shape[0]\n",
    "m = np.prod((train_dataloader.dataset.dataset.data).shape[1:])\n",
    "rate = 0.5\n",
    "model = DNN(m, 200, classes, rate).to(device)\n",
    "criterion = nn.CrossEntropyLoss()\n",
    "optimizer = optimizers.SGD(model.parameters(), lr=0.025)\n",
    "\n",
    "def compute_loss(t, y):\n",
    "    return criterion(y, t)\n",
    "\n",
    "def train_step(x, t):\n",
    "    model.train()\n",
    "    preds = model(x)\n",
    "    loss = compute_loss(t, preds)\n",
    "    optimizer.zero_grad()\n",
    "    loss.backward()\n",
    "    optimizer.step()\n",
    "    return loss, preds\n",
    "\n",
    "def val_step(x, t):\n",
    "    model.eval()\n",
    "    preds = model(x)\n",
    "    loss = criterion(preds, t)\n",
    "    return loss, preds\n",
    "\n",
    "# アルゴリズムの設定\n",
    "epochs = 1000\n",
    "es = EarlyStopping(patience=5, verbose=1)\n",
    "hist = {\"val_loss\" : [], \"val_accuracy\": []}"
   ]
  },
  {
   "cell_type": "code",
   "execution_count": 52,
   "metadata": {
    "scrolled": true
   },
   "outputs": [
    {
     "name": "stdout",
     "output_type": "stream",
     "text": [
      "epoch: 1, loss: 1.28, acc: 0.571, val_loss: 0.677, val_acc: 0.799\n",
      "epoch: 2, loss: 0.752, acc: 0.760, val_loss: 0.437, val_acc: 0.876\n",
      "epoch: 3, loss: 0.565, acc: 0.830, val_loss: 0.351, val_acc: 0.898\n",
      "epoch: 4, loss: 0.473, acc: 0.861, val_loss: 0.294, val_acc: 0.915\n",
      "epoch: 5, loss: 0.412, acc: 0.882, val_loss: 0.258, val_acc: 0.924\n",
      "epoch: 6, loss: 0.37, acc: 0.896, val_loss: 0.231, val_acc: 0.933\n",
      "epoch: 7, loss: 0.334, acc: 0.904, val_loss: 0.212, val_acc: 0.937\n",
      "epoch: 8, loss: 0.31, acc: 0.912, val_loss: 0.197, val_acc: 0.943\n",
      "epoch: 9, loss: 0.289, acc: 0.918, val_loss: 0.18, val_acc: 0.947\n",
      "epoch: 10, loss: 0.269, acc: 0.924, val_loss: 0.17, val_acc: 0.950\n",
      "epoch: 11, loss: 0.256, acc: 0.928, val_loss: 0.16, val_acc: 0.952\n",
      "epoch: 12, loss: 0.24, acc: 0.932, val_loss: 0.156, val_acc: 0.953\n",
      "epoch: 13, loss: 0.228, acc: 0.935, val_loss: 0.144, val_acc: 0.956\n",
      "epoch: 14, loss: 0.221, acc: 0.938, val_loss: 0.141, val_acc: 0.958\n",
      "epoch: 15, loss: 0.21, acc: 0.941, val_loss: 0.134, val_acc: 0.960\n",
      "epoch: 16, loss: 0.2, acc: 0.945, val_loss: 0.131, val_acc: 0.961\n",
      "epoch: 17, loss: 0.194, acc: 0.945, val_loss: 0.127, val_acc: 0.963\n",
      "epoch: 18, loss: 0.184, acc: 0.947, val_loss: 0.124, val_acc: 0.962\n",
      "epoch: 19, loss: 0.183, acc: 0.948, val_loss: 0.12, val_acc: 0.964\n",
      "epoch: 20, loss: 0.176, acc: 0.951, val_loss: 0.118, val_acc: 0.965\n",
      "epoch: 21, loss: 0.17, acc: 0.952, val_loss: 0.117, val_acc: 0.966\n",
      "epoch: 22, loss: 0.165, acc: 0.954, val_loss: 0.114, val_acc: 0.966\n",
      "epoch: 23, loss: 0.164, acc: 0.954, val_loss: 0.111, val_acc: 0.966\n",
      "epoch: 24, loss: 0.16, acc: 0.955, val_loss: 0.11, val_acc: 0.968\n",
      "epoch: 25, loss: 0.154, acc: 0.957, val_loss: 0.108, val_acc: 0.968\n",
      "epoch: 26, loss: 0.152, acc: 0.958, val_loss: 0.105, val_acc: 0.969\n",
      "epoch: 27, loss: 0.146, acc: 0.959, val_loss: 0.104, val_acc: 0.969\n",
      "epoch: 28, loss: 0.144, acc: 0.959, val_loss: 0.105, val_acc: 0.969\n",
      "epoch: 29, loss: 0.145, acc: 0.959, val_loss: 0.104, val_acc: 0.970\n",
      "epoch: 30, loss: 0.136, acc: 0.961, val_loss: 0.101, val_acc: 0.970\n",
      "epoch: 31, loss: 0.133, acc: 0.962, val_loss: 0.102, val_acc: 0.970\n",
      "epoch: 32, loss: 0.134, acc: 0.962, val_loss: 0.101, val_acc: 0.971\n",
      "epoch: 33, loss: 0.13, acc: 0.962, val_loss: 0.0993, val_acc: 0.971\n",
      "epoch: 34, loss: 0.128, acc: 0.964, val_loss: 0.0975, val_acc: 0.971\n",
      "epoch: 35, loss: 0.125, acc: 0.964, val_loss: 0.0981, val_acc: 0.972\n",
      "epoch: 36, loss: 0.124, acc: 0.964, val_loss: 0.095, val_acc: 0.972\n",
      "epoch: 37, loss: 0.121, acc: 0.966, val_loss: 0.0994, val_acc: 0.971\n",
      "epoch: 38, loss: 0.121, acc: 0.965, val_loss: 0.0959, val_acc: 0.972\n",
      "epoch: 39, loss: 0.12, acc: 0.965, val_loss: 0.097, val_acc: 0.973\n",
      "epoch: 40, loss: 0.117, acc: 0.966, val_loss: 0.0957, val_acc: 0.973\n",
      "epoch: 41, loss: 0.115, acc: 0.968, val_loss: 0.0955, val_acc: 0.973\n",
      "epoch: 42, loss: 0.114, acc: 0.968, val_loss: 0.0944, val_acc: 0.973\n",
      "epoch: 43, loss: 0.112, acc: 0.968, val_loss: 0.0928, val_acc: 0.973\n",
      "epoch: 44, loss: 0.112, acc: 0.969, val_loss: 0.0954, val_acc: 0.972\n",
      "epoch: 45, loss: 0.108, acc: 0.968, val_loss: 0.0974, val_acc: 0.973\n",
      "epoch: 46, loss: 0.106, acc: 0.969, val_loss: 0.094, val_acc: 0.974\n",
      "epoch: 47, loss: 0.102, acc: 0.971, val_loss: 0.0947, val_acc: 0.974\n",
      "epoch: 48, loss: 0.101, acc: 0.971, val_loss: 0.0952, val_acc: 0.974\n",
      "epoch: 49, loss: 0.103, acc: 0.970, val_loss: 0.0931, val_acc: 0.974\n",
      "early stopping\n"
     ]
    }
   ],
   "source": [
    "# 確率的勾配法でモデルを学習\n",
    "for epoch in range(epochs):\n",
    "    train_loss = 0.0\n",
    "    train_acc = 0.0\n",
    "    val_loss = 0.0\n",
    "    val_acc = 0.0\n",
    "\n",
    "    for (x, t) in train_dataloader:\n",
    "        x, t = x.to(device), t.to(device)\n",
    "        loss, preds = train_step(x, t)\n",
    "        train_loss += loss.item()\n",
    "        train_acc += accuracy_score(t.tolist(), preds.argmax(dim=-1).tolist())\n",
    "\n",
    "    train_loss /= len(train_dataloader)\n",
    "    train_acc /= len(train_dataloader)\n",
    "    \n",
    "    for (x, t) in val_dataloader:\n",
    "        x, t = x.to(device), t.to(device)\n",
    "        loss, preds = val_step(x, t)\n",
    "        val_loss += loss.item()\n",
    "        val_acc += accuracy_score(t.tolist(), preds.argmax(dim=-1).tolist())\n",
    "        \n",
    "    val_loss /= len(val_dataloader)\n",
    "    val_acc /= len(val_dataloader)\n",
    "    \n",
    "    hist[\"val_loss\"].append(val_loss)\n",
    "    hist[\"val_accuracy\"].append(val_acc)\n",
    "    print(\"epoch: {}, loss: {:.3}, acc: {:.3f}, val_loss: {:.3}, val_acc: {:.3f}\".format(\n",
    "        epoch+1, train_loss, train_acc, val_loss, val_acc))\n",
    "    \n",
    "    if es(val_loss):   # 早期終了判定\n",
    "        break"
   ]
  },
  {
   "cell_type": "code",
   "execution_count": null,
   "metadata": {},
   "outputs": [],
   "source": []
  },
  {
   "cell_type": "code",
   "execution_count": null,
   "metadata": {},
   "outputs": [],
   "source": []
  }
 ],
 "metadata": {
  "kernelspec": {
   "display_name": "Python 3",
   "language": "python",
   "name": "python3"
  },
  "language_info": {
   "codemirror_mode": {
    "name": "ipython",
    "version": 3
   },
   "file_extension": ".py",
   "mimetype": "text/x-python",
   "name": "python",
   "nbconvert_exporter": "python",
   "pygments_lexer": "ipython3",
   "version": "3.7.3"
  }
 },
 "nbformat": 4,
 "nbformat_minor": 2
}
