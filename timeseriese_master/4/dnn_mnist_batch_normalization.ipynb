{
 "cells": [
  {
   "cell_type": "code",
   "execution_count": 1,
   "metadata": {},
   "outputs": [
    {
     "data": {
      "text/plain": [
       "<torch._C.Generator at 0x1ebc8feced0>"
      ]
     },
     "execution_count": 1,
     "metadata": {},
     "output_type": "execute_result"
    }
   ],
   "source": [
    "import os\n",
    "import numpy as np\n",
    "import pandas as pd\n",
    "import matplotlib.pyplot  as plt\n",
    "from sklearn.metrics import accuracy_score\n",
    "import torch\n",
    "import torch.nn as nn\n",
    "import torch.optim as optimizers\n",
    "from torch.utils.data import DataLoader\n",
    "from torchvision import datasets\n",
    "from torch.utils.data import random_split\n",
    "from callbacks import EarlyStopping\n",
    "import torchvision.transforms as transforms\n",
    "\n",
    "np.random.seed(123)\n",
    "torch.manual_seed(123)"
   ]
  },
  {
   "cell_type": "code",
   "execution_count": null,
   "metadata": {},
   "outputs": [],
   "source": [
    "# データの準備\n",
    "path = \"D:Statistics/data/deep_leraning/\"\n",
    "root = os.path.join(path, \"torch\", \"mnist\")\n",
    "transform = transforms.Compose([transforms.ToTensor(), lambda x: x.view(-1)])\n",
    "mnist_train = datasets.MNIST(root=root, download=True, train=True, transform=transform)\n",
    "mnist_test = datasets.MNIST(root=root, download=True, train=False, transform=transform)\n",
    "\n",
    "n_samples = len(mnist_train)\n",
    "n_train = int(n_samples * 0.8)\n",
    "n_val = n_samples - n_train\n",
    "mnist_train, mnist_val = random_split(mnist_train, {n_train, n_val})\n",
    "\n",
    "train_dataloader = DataLoader(mnist_train, batch_size=100, shuffle=True)\n",
    "val_dataloader = DataLoader(mnist_val, batch_size=100, shuffle=True)\n",
    "test_dataloader = DataLoader(mnist_test, batch_size=100, shuffle=False)"
   ]
  },
  {
   "cell_type": "code",
   "execution_count": null,
   "metadata": {},
   "outputs": [],
   "source": [
    "# DNNを定義\n",
    "class DNN(nn.Module):\n",
    "    def __init__(self, input_dim, hidden_dim, output_dim, rate):\n",
    "        super().__init__()\n",
    "        self.l1 = nn.Linear(input_dim, hidden_dim)\n",
    "        self.b1 = nn.BatchNorm1d(hidden_dim)\n",
    "        self.a1 = nn.ReLU()\n",
    "        self.d1 = nn.Dropout(rate)\n",
    "        self.l2 = nn.Linear(hidden_dim, hidden_dim)\n",
    "        self.b2 = nn.BatchNorm1d(hidden_dim)\n",
    "        self.a2 = nn.ReLU()\n",
    "        self.d2 = nn.Dropout(rate)\n",
    "        self.l3 = nn.Linear(hidden_dim, hidden_dim)\n",
    "        self.b3 = nn.BatchNorm1d(hidden_dim)\n",
    "        self.a3 = nn.ReLU()\n",
    "        self.d3 = nn.Dropout(rate)\n",
    "        self.l4 = nn.Linear(hidden_dim, output_dim)\n",
    "        self.layers = [self.l1, self.b1, self.a1, self.d1, self.l2, self.b2, self.a2, self.d2, self.l3, self.b3, self.a3, self.d3, self.l4]\n",
    "\n",
    "    def forward(self, x):\n",
    "        for layer in self.layers:\n",
    "            x = layer(x)\n",
    "        return x"
   ]
  },
  {
   "cell_type": "code",
   "execution_count": null,
   "metadata": {},
   "outputs": [],
   "source": [
    "# モデルの学習\n",
    "# アルゴリズムの定義\n",
    "device = torch.device(\"cuda\" if torch.cuda.is_available() else \"cpu\")\n",
    "classes = np.unique(train_dataloader.dataset.dataset.classes).shape[0]\n",
    "m = np.prod((train_dataloader.dataset.dataset.data).shape[1:])\n",
    "model = DNN(m, 200, classes, rate).to(device)\n",
    "criterion = nn.CrossEntropyLoss()\n",
    "\n",
    "# optimizerを定義\n",
    "optimizer_sgd = optimizers.SGD(model.parameters(), lr=0.01)   # 確率的勾配法\n",
    "optimizer_momemtum = optimizers.SGD(model.parameters(), lr=0.01, momentum=0.9)   #モメンタム法\n",
    "optimizer_nesterov = optimizers.SGD(model.parameters(), lr=0.01, momentum=0.9, nesterov=True)   #N esterovモメンタム法\n",
    "optimizer_adagrad = optimizers.Adagrad(model.parameters(), lr=0.01)   # Adagrad\n",
    "optimizer_rms = optimizers.RMSprop(model.parameters(), lr=0.01)   # RMSproop\n",
    "optimizer_adadelta = optimizers.Adadelta(model.parameters(), rho=0.95)   # Adadelta\n",
    "optimizer_adam = optimizers.Adam(model.parameters(), lr=0.001, betas=(0.9, 0.999))   # Adam\n",
    "optimizer_amsgrad = optimizers.Adam(model.parameters(), lr=0.001, betas=(0.9, 0.999), amsgrad=True)   # AMSgrad\n",
    "\n",
    "def compute_loss(t, y):\n",
    "    return criterion(y, t)\n",
    "\n",
    "def train_step(x, t, optimizer):\n",
    "    model.train()\n",
    "    preds = model(x)\n",
    "    loss = compute_loss(t, preds)\n",
    "    optimizer.zero_grad()\n",
    "    loss.backward()\n",
    "    optimizer.step()\n",
    "    return loss, preds\n",
    "\n",
    "def val_step(x, t):\n",
    "    model.eval()\n",
    "    preds = model(x)\n",
    "    loss = criterion(preds, t)\n",
    "    return loss, preds\n",
    "\n",
    "# アルゴリズムの設定\n",
    "rate = 0.5\n",
    "epochs = 30\n",
    "es = EarlyStopping(patience=5, verbose=1)\n",
    "disp = 5"
   ]
  },
  {
   "cell_type": "code",
   "execution_count": null,
   "metadata": {},
   "outputs": [],
   "source": [
    "# Adamでモデルを学習\n",
    "# optimizerを定義\n",
    "model = DNN(m, 200, classes, rate).to(device)\n",
    "optimizer_adam = optimizers.Adam(model.parameters(), lr=0.001, betas=(0.9, 0.999))   # Adam\n",
    "hist_adam = {\"train_loss\": [], \"train_accuracy\": [], \"val_loss\" : [], \"val_accuracy\": []}\n",
    "\n",
    "# パラメータを推定\n",
    "for epoch in range(epochs):\n",
    "    train_loss = 0.0\n",
    "    train_acc = 0.0\n",
    "    val_loss = 0.0\n",
    "    val_acc = 0.0\n",
    "\n",
    "    for (x, t) in train_dataloader:\n",
    "        x, t = x.to(device), t.to(device)\n",
    "        loss, preds = train_step(x, t, optimizer_adam)\n",
    "        train_loss += loss.item()\n",
    "        train_acc += accuracy_score(t.tolist(), preds.argmax(dim=-1).tolist())\n",
    "\n",
    "    train_loss /= len(train_dataloader)\n",
    "    train_acc /= len(train_dataloader)\n",
    "\n",
    "    hist_adam[\"train_loss\"].append(train_loss)\n",
    "    hist_adam[\"train_accuracy\"].append(train_acc)\n",
    "    \n",
    "    for (x, t) in val_dataloader:\n",
    "        x, t = x.to(device), t.to(device)\n",
    "        loss, preds = val_step(x, t)\n",
    "        val_loss += loss.item()\n",
    "        val_acc += accuracy_score(t.tolist(), preds.argmax(dim=-1).tolist())\n",
    "        \n",
    "    val_loss /= len(val_dataloader)\n",
    "    val_acc /= len(val_dataloader)\n",
    "    \n",
    "    hist_adam[\"val_loss\"].append(val_loss)\n",
    "    hist_adam[\"val_accuracy\"].append(val_acc)\n",
    "    \n",
    "    if epoch%disp==0:\n",
    "        print(\"epoch: {}, loss: {:.3}, acc: {:.3f}, val_loss: {:.3}, val_acc: {:.3f}\".format(\n",
    "            epoch, train_loss, train_acc, val_loss, val_acc))"
   ]
  },
  {
   "cell_type": "code",
   "execution_count": null,
   "metadata": {},
   "outputs": [],
   "source": []
  },
  {
   "cell_type": "code",
   "execution_count": null,
   "metadata": {},
   "outputs": [],
   "source": []
  }
 ],
 "metadata": {
  "kernelspec": {
   "display_name": "Python 3",
   "language": "python",
   "name": "python3"
  },
  "language_info": {
   "codemirror_mode": {
    "name": "ipython",
    "version": 3
   },
   "file_extension": ".py",
   "mimetype": "text/x-python",
   "name": "python",
   "nbconvert_exporter": "python",
   "pygments_lexer": "ipython3",
   "version": "3.7.5"
  }
 },
 "nbformat": 4,
 "nbformat_minor": 2
}
