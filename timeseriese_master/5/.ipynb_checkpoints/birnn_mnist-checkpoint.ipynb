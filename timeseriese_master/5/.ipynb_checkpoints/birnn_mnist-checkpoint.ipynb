{
 "cells": [
  {
   "cell_type": "code",
   "execution_count": 7,
   "metadata": {},
   "outputs": [
    {
     "data": {
      "text/plain": [
       "<torch._C.Generator at 0x27d40d0d450>"
      ]
     },
     "execution_count": 7,
     "metadata": {},
     "output_type": "execute_result"
    }
   ],
   "source": [
    "import os\n",
    "import numpy as np\n",
    "import pandas as pd\n",
    "import matplotlib.pyplot  as plt\n",
    "from sklearn.metrics import accuracy_score\n",
    "import torch\n",
    "import torch.nn as nn\n",
    "import torch.optim as optimizers\n",
    "from sklearn.model_selection import train_test_split\n",
    "from sklearn.utils import shuffle\n",
    "from torch.utils.data import DataLoader\n",
    "from torchvision import datasets\n",
    "from torch.utils.data import random_split\n",
    "import torchvision.transforms as transforms\n",
    "\n",
    "np.random.seed(123)\n",
    "torch.manual_seed(123)"
   ]
  },
  {
   "cell_type": "code",
   "execution_count": 8,
   "metadata": {},
   "outputs": [],
   "source": [
    "class EarlyStopping:\n",
    "    '''\n",
    "    早期終了 (early stopping)\n",
    "    '''\n",
    "    def __init__(self, patience=0, verbose=0):\n",
    "        self._step = 0\n",
    "        self._loss = float('inf')\n",
    "        self.patience = patience\n",
    "        self.verbose = verbose\n",
    "\n",
    "    def __call__(self, loss):\n",
    "        if self._loss < loss:\n",
    "            self._step += 1\n",
    "            if self._step > self.patience:\n",
    "                if self.verbose:\n",
    "                    print('early stopping')\n",
    "                return True\n",
    "        else:\n",
    "            self._step = 0\n",
    "            self._loss = loss\n",
    "\n",
    "        return False"
   ]
  },
  {
   "cell_type": "code",
   "execution_count": 9,
   "metadata": {},
   "outputs": [],
   "source": [
    "# データの準備\n",
    "path = \"C:/statistics/data/deep_leraning/\"\n",
    "root = os.path.join(path, \"torch\", \"mnist\")\n",
    "transform = transforms.Compose([transforms.ToTensor(), lambda x: x.view(28, 28)])\n",
    "mnist_train = datasets.MNIST(root=root, download=True, train=True, transform=transform)\n",
    "mnist_test = datasets.MNIST(root=root, download=True, train=False, transform=transform)\n",
    "\n",
    "n_samples = len(mnist_train)\n",
    "n_train = int(n_samples * 0.8)\n",
    "n_val = n_samples - n_train\n",
    "mnist_train, mnist_val = random_split(mnist_train, {n_train, n_val})\n",
    "\n",
    "train_dataloader = DataLoader(mnist_train, batch_size=100, shuffle=True)\n",
    "val_dataloader = DataLoader(mnist_val, batch_size=100, shuffle=True)\n",
    "test_dataloader = DataLoader(mnist_test, batch_size=100, shuffle=False)"
   ]
  },
  {
   "cell_type": "code",
   "execution_count": 10,
   "metadata": {},
   "outputs": [],
   "source": [
    "# モデルの定義\n",
    "class BiRNN(nn.Module):\n",
    "    def __init__(self, hidden_dim):\n",
    "        super().__init__()\n",
    "        self.l1 = nn.LSTM(28, hidden_dim, batch_first=True, bidirectional=True)\n",
    "        self.l2 = nn.Linear(hidden_dim*2, 10)\n",
    "\n",
    "        nn.init.xavier_normal_(self.l1.weight_ih_l0)\n",
    "        nn.init.orthogonal_(self.l1.weight_hh_l0)\n",
    "        nn.init.xavier_normal_(self.l2.weight)\n",
    "\n",
    "    def forward(self, x):\n",
    "        h, _ = self.l1(x)\n",
    "        y = self.l2(h[:, -1])\n",
    "        return y"
   ]
  },
  {
   "cell_type": "code",
   "execution_count": 14,
   "metadata": {},
   "outputs": [],
   "source": [
    "# モデルの学習\n",
    "# アルゴリズムの定義\n",
    "device = torch.device(\"cuda\" if torch.cuda.is_available() else \"cpu\")\n",
    "model = BiRNN(25).to(device)\n",
    "criterion = nn.CrossEntropyLoss()\n",
    "optimizer = optimizers.Adam(model.parameters(), lr=0.001, betas=(0.9, 0.999), amsgrad=True)\n",
    "\n",
    "def compute_loss(t, y):\n",
    "    return criterion(y, t)\n",
    "\n",
    "def train_step(x, t, model, optimizer):\n",
    "    model.train()\n",
    "    preds = model(x)\n",
    "    loss = compute_loss(t, preds)\n",
    "    optimizer.zero_grad()\n",
    "    loss.backward()\n",
    "    optimizer.step()\n",
    "    return loss, preds\n",
    "\n",
    "def val_step(x, t, model):\n",
    "    model.eval()\n",
    "    preds = model(x)\n",
    "    loss = criterion(preds, t)\n",
    "    return loss, preds\n",
    "\n",
    "# アルゴリズムの設定\n",
    "epochs = 100\n",
    "hist = {\"train_loss\": [], \"train_acc\" : [], \"val_loss\": [], \"val_acc\": []}\n",
    "es = EarlyStopping(patience=5, verbose=1)\n",
    "disp = 2"
   ]
  },
  {
   "cell_type": "code",
   "execution_count": 16,
   "metadata": {
    "scrolled": true
   },
   "outputs": [
    {
     "name": "stdout",
     "output_type": "stream",
     "text": [
      "epoch: 0, loss: 0.0371, acc: 0.989, val_loss: 0.0774, val_acc: 0.978\n"
     ]
    },
    {
     "ename": "TypeError",
     "evalue": "__call__() missing 1 required positional argument: 'loss'",
     "output_type": "error",
     "traceback": [
      "\u001b[1;31m---------------------------------------------------------------------------\u001b[0m",
      "\u001b[1;31mTypeError\u001b[0m                                 Traceback (most recent call last)",
      "\u001b[1;32m<ipython-input-16-84066b20091a>\u001b[0m in \u001b[0;36m<module>\u001b[1;34m\u001b[0m\n\u001b[0;32m     35\u001b[0m             epoch, train_loss, train_acc, val_loss, val_acc))\n\u001b[0;32m     36\u001b[0m \u001b[1;33m\u001b[0m\u001b[0m\n\u001b[1;32m---> 37\u001b[1;33m     \u001b[1;32mif\u001b[0m \u001b[0mes\u001b[0m\u001b[1;33m(\u001b[0m\u001b[1;33m)\u001b[0m\u001b[1;33m==\u001b[0m\u001b[1;32mTrue\u001b[0m\u001b[1;33m:\u001b[0m\u001b[1;33m\u001b[0m\u001b[1;33m\u001b[0m\u001b[0m\n\u001b[0m\u001b[0;32m     38\u001b[0m         \u001b[1;32mbreak\u001b[0m\u001b[1;33m\u001b[0m\u001b[1;33m\u001b[0m\u001b[0m\n",
      "\u001b[1;31mTypeError\u001b[0m: __call__() missing 1 required positional argument: 'loss'"
     ]
    }
   ],
   "source": [
    "# 確率的勾配法でモデルを学習\n",
    "# パラメータを推定\n",
    "for epoch in range(epochs):\n",
    "    train_loss = 0.0\n",
    "    train_acc = 0.0\n",
    "    val_loss = 0.0\n",
    "    val_acc = 0.0\n",
    "\n",
    "    for (x, t) in train_dataloader:\n",
    "        x, t = x.to(device), t.to(device)\n",
    "        loss, preds = train_step(x, t, model, optimizer)\n",
    "        train_loss += loss.item()\n",
    "        train_acc += accuracy_score(t.tolist(), preds.argmax(dim=-1).tolist())\n",
    "\n",
    "    train_loss /= len(train_dataloader)\n",
    "    train_acc /= len(train_dataloader)\n",
    "    \n",
    "    hist[\"train_loss\"].append(train_loss)\n",
    "    hist[\"train_acc\"].append(train_acc)\n",
    "    \n",
    "    for (x, t) in val_dataloader:\n",
    "        x, t = x.to(device), t.to(device)\n",
    "        loss, preds = val_step(x, t, model)\n",
    "        val_loss += loss.item()\n",
    "        val_acc += accuracy_score(t.tolist(), preds.argmax(dim=-1).tolist())\n",
    "        \n",
    "    val_loss /= len(val_dataloader)\n",
    "    val_acc /= len(val_dataloader)\n",
    "    \n",
    "    hist[\"val_loss\"].append(val_loss)\n",
    "    hist[\"val_acc\"].append(val_acc)\n",
    "    \n",
    "    if epoch%disp==0:\n",
    "        print(\"epoch: {}, loss: {:.3}, acc: {:.3f}, val_loss: {:.3}, val_acc: {:.3f}\".format(\n",
    "            epoch, train_loss, train_acc, val_loss, val_acc))\n",
    "    \n",
    "    if es(val_loss)==True:\n",
    "        break"
   ]
  },
  {
   "cell_type": "code",
   "execution_count": null,
   "metadata": {},
   "outputs": [],
   "source": []
  }
 ],
 "metadata": {
  "kernelspec": {
   "display_name": "Python 3",
   "language": "python",
   "name": "python3"
  },
  "language_info": {
   "codemirror_mode": {
    "name": "ipython",
    "version": 3
   },
   "file_extension": ".py",
   "mimetype": "text/x-python",
   "name": "python",
   "nbconvert_exporter": "python",
   "pygments_lexer": "ipython3",
   "version": "3.7.5"
  }
 },
 "nbformat": 4,
 "nbformat_minor": 2
}
