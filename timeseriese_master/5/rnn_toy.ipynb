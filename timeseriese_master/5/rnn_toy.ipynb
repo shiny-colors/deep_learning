{
 "cells": [
  {
   "cell_type": "code",
   "execution_count": 57,
   "metadata": {},
   "outputs": [
    {
     "data": {
      "text/plain": [
       "<torch._C.Generator at 0x1aaf3bcbeb0>"
      ]
     },
     "execution_count": 57,
     "metadata": {},
     "output_type": "execute_result"
    }
   ],
   "source": [
    "import os\n",
    "import numpy as np\n",
    "import pandas as pd\n",
    "import matplotlib.pyplot  as plt\n",
    "from sklearn.metrics import accuracy_score\n",
    "import torch\n",
    "import torch.nn as nn\n",
    "import torch.optim as optimizers\n",
    "from sklearn.model_selection import train_test_split\n",
    "from sklearn.utils import shuffle\n",
    "from torch.utils.data import DataLoader\n",
    "from torchvision import datasets\n",
    "from torch.utils.data import random_split\n",
    "import torchvision.transforms as transforms\n",
    "\n",
    "np.random.seed(123)\n",
    "torch.manual_seed(123)"
   ]
  },
  {
   "cell_type": "code",
   "execution_count": 58,
   "metadata": {},
   "outputs": [],
   "source": [
    "class EarlyStopping:\n",
    "    '''\n",
    "    早期終了 (early stopping)\n",
    "    '''\n",
    "    def __init__(self, patience=0, verbose=0):\n",
    "        self._step = 0\n",
    "        self._loss = float('inf')\n",
    "        self.patience = patience\n",
    "        self.verbose = verbose\n",
    "\n",
    "    def __call__(self, loss):\n",
    "        if self._loss < loss:\n",
    "            self._step += 1\n",
    "            if self._step > self.patience:\n",
    "                if self.verbose:\n",
    "                    print('early stopping')\n",
    "                return True\n",
    "        else:\n",
    "            self._step = 0\n",
    "            self._loss = loss\n",
    "\n",
    "        return False\n"
   ]
  },
  {
   "cell_type": "code",
   "execution_count": 71,
   "metadata": {},
   "outputs": [],
   "source": [
    "# データの準備\n",
    "# データの生成\n",
    "T = 100\n",
    "x = np.arange(0, 2*T + 1)\n",
    "N = x.shape[0]\n",
    "Sigma = 0.2\n",
    "mu = np.sin(2.0 * np.pi * x / T)\n",
    "f = mu + np.random.normal(0, Sigma, N)\n",
    "\n",
    "# データの分割\n",
    "maxlen = 25   #最大データ長\n",
    "x = []\n",
    "t = []\n",
    "\n",
    "for i in range(N - maxlen):\n",
    "    x.append(f[i:i+maxlen])\n",
    "    t.append(f[i+maxlen])\n",
    "x = np.array(x).reshape(-1, maxlen, 1)\n",
    "t = np.array(t).reshape(-1, 1)\n",
    "\n",
    "# 学習データと検証データに分割\n",
    "x_train, x_val, t_train, t_val = train_test_split(x, t, test_size=0.2, shuffle=False)"
   ]
  },
  {
   "cell_type": "code",
   "execution_count": 72,
   "metadata": {},
   "outputs": [],
   "source": [
    "# RNNを定義\n",
    "class RNN(nn.Module):\n",
    "    def __init__(self, hidden_dim):\n",
    "        super().__init__()\n",
    "        self.l1 = nn.RNN(1, hidden_dim, nonlinearity=\"tanh\", batch_first=True)\n",
    "        self.l2 = nn.Linear(hidden_dim, 1)\n",
    "\n",
    "        nn.init.xavier_normal_(self.l1.weight_ih_l0)\n",
    "        nn.init.orthogonal_(self.l1.weight_hh_l0)\n",
    "\n",
    "    def forward(self, x):\n",
    "        h, _ = self.l1(x)\n",
    "        y = self.l2(h[:, -1])\n",
    "        return y"
   ]
  },
  {
   "cell_type": "code",
   "execution_count": 73,
   "metadata": {},
   "outputs": [],
   "source": [
    "# モデルの学習\n",
    "# アルゴリズムの定義\n",
    "device = torch.device(\"cuda\" if torch.cuda.is_available() else \"cpu\")\n",
    "model = RNN(50).to(device)\n",
    "criterion = nn.MSELoss(reduction=\"mean\")\n",
    "\n",
    "# optimizerを定義\n",
    "optimizer = optimizers.Adam(model.parameters(), lr=0.001, betas=(0.9, 0.999), amsgrad=True)\n",
    "\n",
    "def compute_loss(t, y):\n",
    "    return criterion(y, t)\n",
    "\n",
    "def train_step(x, t):\n",
    "    x = torch.Tensor(x).to(device)\n",
    "    t = torch.Tensor(t).to(device)\n",
    "    model.train()\n",
    "    preds = model(x)\n",
    "    loss = compute_loss(t, preds)\n",
    "    optimizer.zero_grad()\n",
    "    loss.backward()\n",
    "    optimizer.step()\n",
    "    return loss, preds\n",
    "\n",
    "def val_step(x, t):\n",
    "    x = torch.Tensor(x).to(device)\n",
    "    t = torch.Tensor(t).to(device)\n",
    "    model.eval()\n",
    "    preds = model(x)\n",
    "    loss = criterion(preds, t)\n",
    "    return loss, preds\n",
    "\n",
    "# アルゴリズムの設定\n",
    "epochs = 1000\n",
    "batch_size = 100\n",
    "n_batches_train = x_train.shape[0] // batch_size + 1\n",
    "n_batches_val = x_val.shape[0] // batch_size + 1\n",
    "hist = {\"train_loss\": [], \"val_loss\" : []}\n",
    "es = EarlyStopping(patience=10, verbose=1)\n",
    "disp = 10"
   ]
  },
  {
   "cell_type": "code",
   "execution_count": 74,
   "metadata": {},
   "outputs": [
    {
     "name": "stdout",
     "output_type": "stream",
     "text": [
      "epoch: 0, loss: 0.613, val_loss: 0.677\n",
      "epoch: 10, loss: 0.069, val_loss: 0.0812\n",
      "epoch: 20, loss: 0.0598, val_loss: 0.0712\n",
      "epoch: 30, loss: 0.0558, val_loss: 0.0575\n",
      "epoch: 40, loss: 0.0495, val_loss: 0.0443\n",
      "epoch: 50, loss: 0.0458, val_loss: 0.0412\n",
      "epoch: 60, loss: 0.0503, val_loss: 0.0376\n",
      "early stopping\n"
     ]
    }
   ],
   "source": [
    "# RNNパラメータを推定\n",
    "for epoch in range(epochs):\n",
    "    \n",
    "    train_loss = 0.0\n",
    "    val_loss = 0.0\n",
    "    x_, t_ = shuffle(x_train, t_train)\n",
    "\n",
    "    for batch in range(n_batches_train):\n",
    "        start = batch * batch_size\n",
    "        end = start + batch_size\n",
    "        loss, _ = train_step(x_[start:end], t_[start:end])\n",
    "        train_loss += loss.item()\n",
    "\n",
    "    for batch in range(n_batches_val):\n",
    "        start = batch * batch_size\n",
    "        end = start + batch_size\n",
    "        loss, _ = val_step(x_val[start:end], t_val[start:end])\n",
    "        val_loss += loss.item()\n",
    "\n",
    "    train_loss /= n_batches_train\n",
    "    val_loss /= n_batches_val\n",
    "\n",
    "    hist[\"train_loss\"].append(train_loss)\n",
    "    hist[\"val_loss\"].append(val_loss)\n",
    "\n",
    "    if epoch%disp==0:\n",
    "        print(\"epoch: {}, loss: {:.3}, val_loss: {:.3}\".format(epoch, train_loss, val_loss))\n",
    "        \n",
    "    if es(val_loss):\n",
    "        break"
   ]
  },
  {
   "cell_type": "code",
   "execution_count": 75,
   "metadata": {},
   "outputs": [],
   "source": [
    "# モデルの評価\n",
    "model.eval()\n",
    "gen = [0 for i in range(maxlen)]\n",
    "z = x[:1]\n",
    "\n",
    "for i in range(N - maxlen):\n",
    "    z_ = torch.Tensor(z[-1:]).to(device)\n",
    "    preds = model(z_).data.cpu().numpy()\n",
    "    z = np.append(z, preds)[1:]\n",
    "    z = z.reshape(-1, maxlen, 1)\n",
    "    gen.append(preds[0, 0])"
   ]
  },
  {
   "cell_type": "code",
   "execution_count": 76,
   "metadata": {},
   "outputs": [
    {
     "data": {
      "text/plain": [
       "[<matplotlib.lines.Line2D at 0x1aaf734ceb8>]"
      ]
     },
     "execution_count": 76,
     "metadata": {},
     "output_type": "execute_result"
    },
    {
     "data": {
      "image/png": "[encoded data removed]",
      "text/plain": [
       "<Figure size 432x288 with 1 Axes>"
      ]
     },
     "metadata": {
      "needs_background": "light"
     },
     "output_type": "display_data"
    }
   ],
   "source": [
    "# 予測結果を可視化\n",
    "plt.plot(f[maxlen:])\n",
    "plt.plot(np.array(gen)[maxlen:])"
   ]
  },
  {
   "cell_type": "code",
   "execution_count": null,
   "metadata": {},
   "outputs": [],
   "source": []
  },
  {
   "cell_type": "code",
   "execution_count": null,
   "metadata": {},
   "outputs": [],
   "source": []
  },
  {
   "cell_type": "code",
   "execution_count": null,
   "metadata": {},
   "outputs": [],
   "source": []
  }
 ],
 "metadata": {
  "kernelspec": {
   "display_name": "Python 3",
   "language": "python",
   "name": "python3"
  },
  "language_info": {
   "codemirror_mode": {
    "name": "ipython",
    "version": 3
   },
   "file_extension": ".py",
   "mimetype": "text/x-python",
   "name": "python",
   "nbconvert_exporter": "python",
   "pygments_lexer": "ipython3",
   "version": "3.7.3"
  }
 },
 "nbformat": 4,
 "nbformat_minor": 2
}
