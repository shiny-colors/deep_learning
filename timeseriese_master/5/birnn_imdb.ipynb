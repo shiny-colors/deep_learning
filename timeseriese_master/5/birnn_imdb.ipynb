{
 "cells": [
  {
   "cell_type": "code",
   "execution_count": 7,
   "metadata": {},
   "outputs": [
    {
     "data": {
      "text/plain": [
       "<torch._C.Generator at 0x1a20504f490>"
      ]
     },
     "execution_count": 7,
     "metadata": {},
     "output_type": "execute_result"
    }
   ],
   "source": [
    "import numpy as np\n",
    "from sklearn.metrics import accuracy_score\n",
    "from sklearn.model_selection import train_test_split\n",
    "from sklearn.utils import shuffle\n",
    "import torch\n",
    "import torch.nn as nn\n",
    "import torch.optim as optimizers\n",
    "from tensorflow.keras import datasets\n",
    "from tensorflow.keras.preprocessing.sequence import pad_sequences\n",
    "\n",
    "np.random.seed(123)\n",
    "torch.manual_seed(123)"
   ]
  },
  {
   "cell_type": "code",
   "execution_count": 8,
   "metadata": {},
   "outputs": [],
   "source": [
    "class EarlyStopping:\n",
    "    '''\n",
    "    早期終了 (early stopping)\n",
    "    '''\n",
    "    def __init__(self, patience=0, verbose=0):\n",
    "        self._step = 0\n",
    "        self._loss = float('inf')\n",
    "        self.patience = patience\n",
    "        self.verbose = verbose\n",
    "\n",
    "    def __call__(self, loss):\n",
    "        if self._loss < loss:\n",
    "            self._step += 1\n",
    "            if self._step > self.patience:\n",
    "                if self.verbose:\n",
    "                    print('early stopping')\n",
    "                return True\n",
    "        else:\n",
    "            self._step = 0\n",
    "            self._loss = loss\n",
    "\n",
    "        return False"
   ]
  },
  {
   "cell_type": "code",
   "execution_count": 34,
   "metadata": {},
   "outputs": [],
   "source": [
    "# データの準備\n",
    "path = \"C:/statistics/data/deep_leraning/\"\n",
    "num_words = 20000\n",
    "maxlen = 100\n",
    "imdb = datasets.imdb\n",
    "word_index = imdb.get_word_index()\n",
    "(x_train, t_train), (x_test, t_test) = imdb.load_data(num_words=num_words, \n",
    "                                                      start_char=1, oov_char=2, index_from=3)"
   ]
  },
  {
   "cell_type": "code",
   "execution_count": 37,
   "metadata": {},
   "outputs": [],
   "source": [
    "x_train, x_val, t_train, t_val = train_test_split(x_train, t_train, test_size=0.2)\n",
    "x_train = pad_sequences(x_train, maxlen=maxlen, padding=\"pre\")\n",
    "x_val = pad_sequences(x_val, maxlen=maxlen, padding=\"pre\")\n",
    "x_test = pad_sequences(x_test, maxlen=maxlen, padding=\"pre\")"
   ]
  },
  {
   "cell_type": "code",
   "execution_count": 95,
   "metadata": {},
   "outputs": [],
   "source": [
    "# モデルの定義\n",
    "class BiRNN(nn.Module):\n",
    "    def __init__(self, num_words, hidden_dim):\n",
    "        super().__init__()\n",
    "        self.emb = nn.Embedding(num_words, hidden_dim, padding_idx=0)\n",
    "        self.lstm = nn.LSTM(hidden_dim, hidden_dim, batch_first=True, bidirectional=True)\n",
    "        self.linear = nn.Linear(hidden_dim*2, 1)\n",
    "        self.sigmoid = nn.Sigmoid()\n",
    "\n",
    "        nn.init.xavier_normal_(self.lstm.weight_ih_l0)\n",
    "        nn.init.orthogonal_(self.lstm.weight_hh_l0)\n",
    "        nn.init.xavier_normal_(self.linear.weight)\n",
    "\n",
    "    def forward(self, x):\n",
    "        h = self.emb(x)\n",
    "        h, _ = self.lstm(h)\n",
    "        h = self.linear(h[:, -1])\n",
    "        y = self.sigmoid(h)\n",
    "        return y.squeeze()"
   ]
  },
  {
   "cell_type": "code",
   "execution_count": 128,
   "metadata": {},
   "outputs": [],
   "source": [
    "# モデルの学習\n",
    "# アルゴリズムの定義\n",
    "device = torch.device(\"cuda\" if torch.cuda.is_available() else \"cpu\")\n",
    "model = BiRNN(num_words, 128).to(device)\n",
    "criterion = nn.BCELoss()\n",
    "optimizer = optimizers.Adam(model.parameters(), lr=0.001, betas=(0.9, 0.999), amsgrad=True)\n",
    "\n",
    "def compute_loss(t, y):\n",
    "    return criterion(y, t)\n",
    "\n",
    "def train_step(x, t, model, optimizer):\n",
    "    x = torch.LongTensor(x).to(device)\n",
    "    t = torch.Tensor(t).to(device)\n",
    "    model.train()\n",
    "    preds = model(x)\n",
    "    loss = compute_loss(t, preds)\n",
    "    optimizer.zero_grad()\n",
    "    loss.backward()\n",
    "    optimizer.step()\n",
    "    return loss, preds\n",
    "\n",
    "def val_step(x, t, model):\n",
    "    x = torch.LongTensor(x).to(device)\n",
    "    t = torch.Tensor(t).to(device)\n",
    "    model.eval()\n",
    "    preds = model(x)\n",
    "    loss = criterion(preds, t)\n",
    "    return loss, preds\n",
    "\n",
    "# アルゴリズムの設定\n",
    "epochs = 100\n",
    "batch_size = 100\n",
    "n_batches_train = x_train.shape[0] // batch_size \n",
    "n_batches_val = x_val.shape[0] // batch_size \n",
    "hist = {\"train_loss\": [], \"train_acc\" : [], \"val_loss\": [], \"val_acc\": []}\n",
    "es = EarlyStopping(patience=5, verbose=1)\n",
    "disp = 5"
   ]
  },
  {
   "cell_type": "code",
   "execution_count": 129,
   "metadata": {},
   "outputs": [
    {
     "name": "stdout",
     "output_type": "stream",
     "text": [
      "epoch: 0, loss: 0.599, acc: 0.660, val_loss: 0.499, val_acc: 0.756\n",
      "epoch: 5, loss: 0.135, acc: 0.950, val_loss: 0.506, val_acc: 0.792\n",
      "early stopping\n"
     ]
    }
   ],
   "source": [
    "# 確率的勾配法でモデルを学習\n",
    "# パラメータを推定\n",
    "for epoch in range(epochs):\n",
    "    train_loss = 0.0\n",
    "    train_acc = 0.0\n",
    "    val_loss = 0.0\n",
    "    val_acc = 0.0\n",
    "    x_, t_ = shuffle(x_train, t_train)\n",
    "    \n",
    "    for batch in range(n_batches_train):\n",
    "        start = batch * batch_size\n",
    "        end = start + batch_size\n",
    "        loss, preds = train_step(x_[start:end], t_[start:end], model, optimizer)\n",
    "        train_loss += loss.item()\n",
    "        train_acc += accuracy_score(t_[start:end].tolist(), preds.data.cpu().numpy() > 0.5)\n",
    "\n",
    "    train_loss /= n_batches_train\n",
    "    train_acc /= n_batches_train    \n",
    "    \n",
    "    hist[\"train_loss\"].append(train_loss)\n",
    "    hist[\"train_acc\"].append(train_acc)\n",
    "    \n",
    "    for batch in range(n_batches_val):\n",
    "        start = batch * batch_size\n",
    "        end = start + batch_size\n",
    "        loss, preds = val_step(x_val[start:end], t_val[start:end], model)\n",
    "        val_loss += loss.item()\n",
    "        val_acc += accuracy_score(t_val[start:end].tolist(), preds.data.cpu().numpy() > 0.5)\n",
    "        \n",
    "    val_loss /= n_batches_val\n",
    "    val_acc /= n_batches_val\n",
    "    \n",
    "    hist[\"val_loss\"].append(val_loss)\n",
    "    hist[\"val_acc\"].append(val_acc)\n",
    "    \n",
    "    if epoch%disp==0:\n",
    "        print(\"epoch: {}, loss: {:.3}, acc: {:.3f}, val_loss: {:.3}, val_acc: {:.3f}\".format(\n",
    "            epoch, train_loss, train_acc, val_loss, val_acc))\n",
    "    \n",
    "    if es(val_loss)==True:\n",
    "        break"
   ]
  },
  {
   "cell_type": "code",
   "execution_count": 134,
   "metadata": {},
   "outputs": [
    {
     "name": "stdout",
     "output_type": "stream",
     "text": [
      "test_loss: 0.741, test_acc: 0.826\n"
     ]
    }
   ],
   "source": [
    "# モデルの評価\n",
    "def test_step(x, t, model):\n",
    "    return val_step(x, t, model)\n",
    "\n",
    "loss, preds = test_step(x_test, t_test, model)\n",
    "test_loss = loss.item()\n",
    "preds = preds.data.cpu().numpy() > 0.5\n",
    "test_acc = accuracy_score(t_test, preds)\n",
    "\n",
    "print(\"test_loss: {:.3f}, test_acc: {:.3f}\".format(test_loss, test_acc))"
   ]
  },
  {
   "cell_type": "code",
   "execution_count": null,
   "metadata": {},
   "outputs": [],
   "source": []
  }
 ],
 "metadata": {
  "kernelspec": {
   "display_name": "Python 3",
   "language": "python",
   "name": "python3"
  },
  "language_info": {
   "codemirror_mode": {
    "name": "ipython",
    "version": 3
   },
   "file_extension": ".py",
   "mimetype": "text/x-python",
   "name": "python",
   "nbconvert_exporter": "python",
   "pygments_lexer": "ipython3",
   "version": "3.7.5"
  }
 },
 "nbformat": 4,
 "nbformat_minor": 2
}
